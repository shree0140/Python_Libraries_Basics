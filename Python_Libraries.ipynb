{
  "nbformat": 4,
  "nbformat_minor": 0,
  "metadata": {
    "colab": {
      "provenance": []
    },
    "kernelspec": {
      "name": "python3",
      "display_name": "Python 3"
    },
    "language_info": {
      "name": "python"
    }
  },
  "cells": [
    {
      "cell_type": "markdown",
      "source": [
        "NUMPY:"
      ],
      "metadata": {
        "id": "9yKFEAEetpTC"
      }
    },
    {
      "cell_type": "markdown",
      "source": [
        "Array Creation:"
      ],
      "metadata": {
        "id": "nkGL7jSgcXbn"
      }
    },
    {
      "cell_type": "code",
      "execution_count": 19,
      "metadata": {
        "id": "F0-5Xg20tjUX",
        "colab": {
          "base_uri": "https://localhost:8080/"
        },
        "outputId": "9153cf12-4ca4-4074-e9a1-5f6ef402503b"
      },
      "outputs": [
        {
          "output_type": "stream",
          "name": "stdout",
          "text": [
            "[1 2 3 4 5]\n"
          ]
        }
      ],
      "source": [
        "import numpy as np\n",
        "arr_1 = np.array([1,2,3,4,5])\n",
        "print(arr_1)"
      ]
    },
    {
      "cell_type": "code",
      "source": [
        "arr_2 = np.arange(0,10,2)\n",
        "print(arr_2)"
      ],
      "metadata": {
        "id": "p36cfmObto5q",
        "colab": {
          "base_uri": "https://localhost:8080/"
        },
        "outputId": "1d927d90-7158-4cb9-e875-9f94c807bc05"
      },
      "execution_count": 20,
      "outputs": [
        {
          "output_type": "stream",
          "name": "stdout",
          "text": [
            "[0 2 4 6 8]\n"
          ]
        }
      ]
    },
    {
      "cell_type": "code",
      "source": [
        "arr_3 = np.linspace(0,10,5)\n",
        "print(arr_3)"
      ],
      "metadata": {
        "colab": {
          "base_uri": "https://localhost:8080/"
        },
        "id": "OGOGytaCfcmv",
        "outputId": "f95deee4-c3aa-4c42-c09c-013333f85382"
      },
      "execution_count": 21,
      "outputs": [
        {
          "output_type": "stream",
          "name": "stdout",
          "text": [
            "[ 0.   2.5  5.   7.5 10. ]\n"
          ]
        }
      ]
    },
    {
      "cell_type": "code",
      "source": [
        "arr_4 = np.zeros((2,2))\n",
        "print(arr_4)"
      ],
      "metadata": {
        "colab": {
          "base_uri": "https://localhost:8080/"
        },
        "id": "zrhCnTc_fjlG",
        "outputId": "ad163bdc-01f1-4eb3-cda2-54c7d9416b18"
      },
      "execution_count": 22,
      "outputs": [
        {
          "output_type": "stream",
          "name": "stdout",
          "text": [
            "[[0. 0.]\n",
            " [0. 0.]]\n"
          ]
        }
      ]
    },
    {
      "cell_type": "code",
      "source": [
        "arr_5 = np.ones((4,5))\n",
        "print(arr_5)"
      ],
      "metadata": {
        "colab": {
          "base_uri": "https://localhost:8080/"
        },
        "id": "mIYed0sJfo22",
        "outputId": "e6b2f250-e873-4507-fae8-b5ca7bc8a334"
      },
      "execution_count": 23,
      "outputs": [
        {
          "output_type": "stream",
          "name": "stdout",
          "text": [
            "[[1. 1. 1. 1. 1.]\n",
            " [1. 1. 1. 1. 1.]\n",
            " [1. 1. 1. 1. 1.]\n",
            " [1. 1. 1. 1. 1.]]\n"
          ]
        }
      ]
    },
    {
      "cell_type": "code",
      "source": [
        "#arr_6 = np.eye(6)\n",
        "arr_6 = np.identity(6)\n",
        "print(arr_6)"
      ],
      "metadata": {
        "colab": {
          "base_uri": "https://localhost:8080/"
        },
        "id": "9MP4dPSpfuud",
        "outputId": "7f7d7255-9a26-4428-fe72-26936ed97ea0"
      },
      "execution_count": 25,
      "outputs": [
        {
          "output_type": "stream",
          "name": "stdout",
          "text": [
            "[[1. 0. 0. 0. 0. 0.]\n",
            " [0. 1. 0. 0. 0. 0.]\n",
            " [0. 0. 1. 0. 0. 0.]\n",
            " [0. 0. 0. 1. 0. 0.]\n",
            " [0. 0. 0. 0. 1. 0.]\n",
            " [0. 0. 0. 0. 0. 1.]]\n"
          ]
        }
      ]
    },
    {
      "cell_type": "code",
      "source": [
        "string_1 = \"Python\"\n",
        "arr_7 = np.fromiter(string_1, dtype=\"U2\")\n",
        "print(arr_7)"
      ],
      "metadata": {
        "colab": {
          "base_uri": "https://localhost:8080/"
        },
        "id": "lC3aADSlgGSI",
        "outputId": "2b1b8114-3fdf-408b-9346-6cb8b5b285cd"
      },
      "execution_count": 26,
      "outputs": [
        {
          "output_type": "stream",
          "name": "stdout",
          "text": [
            "['P' 'y' 't' 'h' 'o' 'n']\n"
          ]
        }
      ]
    }
  ]
}