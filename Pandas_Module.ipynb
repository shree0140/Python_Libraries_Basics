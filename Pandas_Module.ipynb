{
  "nbformat": 4,
  "nbformat_minor": 0,
  "metadata": {
    "colab": {
      "provenance": []
    },
    "kernelspec": {
      "name": "python3",
      "display_name": "Python 3"
    },
    "language_info": {
      "name": "python"
    }
  },
  "cells": [
    {
      "cell_type": "markdown",
      "source": [
        "Pandas:"
      ],
      "metadata": {
        "id": "ajUoShm9_P62"
      }
    },
    {
      "cell_type": "code",
      "source": [
        "import pandas as pd"
      ],
      "metadata": {
        "id": "k8EY713-_ZyE"
      },
      "execution_count": null,
      "outputs": []
    },
    {
      "cell_type": "code",
      "source": [
        "#Series Creation method\n",
        "value_list= [1,2,3,4,5]\n",
        "ser = pd.Series(value_list, index = [\"a\",\"b\",\"c\",\"d\",\"e\"])\n",
        "print(ser)"
      ],
      "metadata": {
        "colab": {
          "base_uri": "https://localhost:8080/"
        },
        "id": "d8hEY9SR_fz9",
        "outputId": "264e9f19-b558-4b9a-ff59-09fab6e21adb"
      },
      "execution_count": null,
      "outputs": [
        {
          "output_type": "stream",
          "name": "stdout",
          "text": [
            "a    1\n",
            "b    2\n",
            "c    3\n",
            "d    4\n",
            "e    5\n",
            "dtype: int64\n"
          ]
        }
      ]
    },
    {
      "cell_type": "code",
      "source": [
        " #Data Frame Creation Method\n",
        "value_list= [1,2,3,4,5]                                         #Data Frame Creation Method\n",
        "df = pd.DataFrame(value_list, index = [\"a\",\"b\",\"c\",\"d\",\"e\"], columns = [\"Col_A\"])\n",
        "print(df)"
      ],
      "metadata": {
        "colab": {
          "base_uri": "https://localhost:8080/"
        },
        "id": "UoZZ9IurAOit",
        "outputId": "1df39363-397a-457a-f160-beb40d751a5a"
      },
      "execution_count": null,
      "outputs": [
        {
          "output_type": "stream",
          "name": "stdout",
          "text": [
            "   Col_A\n",
            "a      1\n",
            "b      2\n",
            "c      3\n",
            "d      4\n",
            "e      5\n"
          ]
        }
      ]
    },
    {
      "cell_type": "markdown",
      "source": [
        "Data Filtering:"
      ],
      "metadata": {
        "id": "yqm4Asi2Jg1s"
      }
    },
    {
      "cell_type": "code",
      "source": [
        "#Data Filtering :\n",
        "\n",
        "#Boolean Indexing\n",
        "value_list= [1,2,3,4,5]\n",
        "df = pd.DataFrame(value_list, index = [\"a\",\"b\",\"c\",\"d\",\"e\"], columns = [\"Col_A\"])\n",
        "print(df)\n",
        "print(\"\\n\")\n",
        "\n",
        "filtered_df = df[df[\"Col_A\"]>3]\n",
        "print(filtered_df)"
      ],
      "metadata": {
        "colab": {
          "base_uri": "https://localhost:8080/"
        },
        "id": "vkugqijEA1T5",
        "outputId": "a11799c1-7735-402c-916f-7f9025f99849"
      },
      "execution_count": null,
      "outputs": [
        {
          "output_type": "stream",
          "name": "stdout",
          "text": [
            "   Col_A\n",
            "a      1\n",
            "b      2\n",
            "c      3\n",
            "d      4\n",
            "e      5\n",
            "\n",
            "\n",
            "   Col_A\n",
            "d      4\n",
            "e      5\n"
          ]
        }
      ]
    },
    {
      "cell_type": "code",
      "source": [
        "#using SQL query\n",
        "df.query()\n"
      ],
      "metadata": {
        "id": "PFLIMv2OCXm0"
      },
      "execution_count": null,
      "outputs": []
    },
    {
      "cell_type": "code",
      "source": [
        "# using df.loc\n",
        "value_list= [1,2,3,4,5]\n",
        "df = pd.DataFrame(value_list, index = [\"a\",\"b\",\"c\",\"d\",\"e\"], columns = [\"Col_A\"])\n",
        "print(df)\n",
        "print(\"\\n\")\n",
        "\n",
        "filtered_df = df.loc[df[\"Col_A\"]>2]\n",
        "print(filtered_df)"
      ],
      "metadata": {
        "colab": {
          "base_uri": "https://localhost:8080/"
        },
        "id": "y46XhhWqCgRj",
        "outputId": "8241e694-1eb9-4364-e5b4-644897fa3cc8"
      },
      "execution_count": null,
      "outputs": [
        {
          "output_type": "stream",
          "name": "stdout",
          "text": [
            "   Col_A\n",
            "a      1\n",
            "b      2\n",
            "c      3\n",
            "d      4\n",
            "e      5\n",
            "\n",
            "\n",
            "   Col_A\n",
            "c      3\n",
            "d      4\n",
            "e      5\n"
          ]
        }
      ]
    },
    {
      "cell_type": "code",
      "source": [
        "# using df.iloc\n",
        "value_list= [1,2,3,4,5]\n",
        "df = pd.DataFrame(value_list, index = [\"a\",\"b\",\"c\",\"d\",\"e\"], columns = [\"Col_A\"])\n",
        "print(df)\n",
        "print(\"\\n\")\n",
        "\n",
        "filtered_df = df.iloc[0:2,:]\n",
        "print(filtered_df)"
      ],
      "metadata": {
        "colab": {
          "base_uri": "https://localhost:8080/"
        },
        "id": "SDZZ6d1xEYFj",
        "outputId": "ca3ded44-3afc-4759-958a-d57767e88fae"
      },
      "execution_count": null,
      "outputs": [
        {
          "output_type": "stream",
          "name": "stdout",
          "text": [
            "   Col_A\n",
            "a      1\n",
            "b      2\n",
            "c      3\n",
            "d      4\n",
            "e      5\n",
            "\n",
            "\n",
            "   Col_A\n",
            "a      1\n",
            "b      2\n"
          ]
        }
      ]
    },
    {
      "cell_type": "code",
      "source": [
        "# using .isin()\n",
        "value_list= [1,2,3,4,5]\n",
        "df = pd.DataFrame(value_list, index = [\"a\",\"b\",\"c\",\"d\",\"e\"], columns = [\"Col_A\"])\n",
        "print(df)\n",
        "print(\"\\n\")\n",
        "\n",
        "filtered_df = df[df[\"Col_A\"].isin([1,4])]\n",
        "print(filtered_df)"
      ],
      "metadata": {
        "colab": {
          "base_uri": "https://localhost:8080/"
        },
        "id": "ewEBobx8GVB7",
        "outputId": "f47f621e-93bd-4a7f-a7cb-9131f116b01e"
      },
      "execution_count": null,
      "outputs": [
        {
          "output_type": "stream",
          "name": "stdout",
          "text": [
            "   Col_A\n",
            "a      1\n",
            "b      2\n",
            "c      3\n",
            "d      4\n",
            "e      5\n",
            "\n",
            "\n",
            "   Col_A\n",
            "a      1\n",
            "d      4\n"
          ]
        }
      ]
    },
    {
      "cell_type": "code",
      "source": [
        "# where method\n",
        "value_list= [1,2,3,4,5]\n",
        "df = pd.DataFrame(value_list, index = [\"a\",\"b\",\"c\",\"d\",\"e\"], columns = [\"Col_A\"])\n",
        "print(df)\n",
        "print(\"\\n\")\n",
        "\n",
        "filtered_df = df.where(df[\"Col_A\"]>3)\n",
        "print(filtered_df)"
      ],
      "metadata": {
        "colab": {
          "base_uri": "https://localhost:8080/"
        },
        "id": "j5NIajKrGxA8",
        "outputId": "bffaa186-2410-4aca-8f67-4ea20d1f78aa"
      },
      "execution_count": null,
      "outputs": [
        {
          "output_type": "stream",
          "name": "stdout",
          "text": [
            "   Col_A\n",
            "a      1\n",
            "b      2\n",
            "c      3\n",
            "d      4\n",
            "e      5\n",
            "\n",
            "\n",
            "   Col_A\n",
            "a    NaN\n",
            "b    NaN\n",
            "c    NaN\n",
            "d    4.0\n",
            "e    5.0\n"
          ]
        }
      ]
    },
    {
      "cell_type": "code",
      "source": [
        "# mask method (masking)\n",
        "value_list= [1,2,3,4,5]\n",
        "df = pd.DataFrame(value_list, index = [\"a\",\"b\",\"c\",\"d\",\"e\"], columns = [\"Col_A\"])\n",
        "print(df)\n",
        "print(\"\\n\")\n",
        "\n",
        "filtered_df = df.mask(df[\"Col_A\"]<4, -100)\n",
        "print(filtered_df)"
      ],
      "metadata": {
        "colab": {
          "base_uri": "https://localhost:8080/"
        },
        "id": "ZUNZEOMHHOd8",
        "outputId": "63a92865-de53-415e-d525-45cdfe58325c"
      },
      "execution_count": null,
      "outputs": [
        {
          "output_type": "stream",
          "name": "stdout",
          "text": [
            "   Col_A\n",
            "a      1\n",
            "b      2\n",
            "c      3\n",
            "d      4\n",
            "e      5\n",
            "\n",
            "\n",
            "   Col_A\n",
            "a   -100\n",
            "b   -100\n",
            "c   -100\n",
            "d      4\n",
            "e      5\n"
          ]
        }
      ]
    },
    {
      "cell_type": "markdown",
      "source": [
        "Value Counts use case:"
      ],
      "metadata": {
        "id": "xopKOprwJlat"
      }
    },
    {
      "cell_type": "code",
      "source": [
        "data = {\n",
        "    'A': [1, 2, 3, 4, 5],\n",
        "    'B': [5, 4, 3, 2, 1],\n",
        "    'C': [10, 20, 30, 40, 50],\n",
        "    'D': [50, 40, 30, 20, 10]\n",
        "}\n",
        "\n",
        "df = pd.DataFrame(data)\n",
        "print(df)\n",
        "\n",
        "print(df[\"B\"].value_counts())\n",
        "print(df[\"B\"].value_counts().values)\n",
        "print(df[\"B\"].value_counts().index)\n"
      ],
      "metadata": {
        "colab": {
          "base_uri": "https://localhost:8080/"
        },
        "id": "kjA-DlHUHb2G",
        "outputId": "587d691a-146b-4428-e4cc-6c4c3d99763b"
      },
      "execution_count": null,
      "outputs": [
        {
          "output_type": "stream",
          "name": "stdout",
          "text": [
            "   A  B   C   D\n",
            "0  1  5  10  50\n",
            "1  2  4  20  40\n",
            "2  3  3  30  30\n",
            "3  4  2  40  20\n",
            "4  5  1  50  10\n",
            "B\n",
            "5    1\n",
            "4    1\n",
            "3    1\n",
            "2    1\n",
            "1    1\n",
            "Name: count, dtype: int64\n",
            "[1 1 1 1 1]\n",
            "Index([5, 4, 3, 2, 1], dtype='int64', name='B')\n"
          ]
        }
      ]
    },
    {
      "cell_type": "markdown",
      "source": [
        "Data Modification:"
      ],
      "metadata": {
        "id": "lXgWu9zyJvrS"
      }
    },
    {
      "cell_type": "code",
      "source": [
        "data = {\n",
        "    'A': [1, 2, 3, 4, 5],\n",
        "    'B': [5, 4, 3, 2, 1],\n",
        "    'C': [10, 20, 30, 40, 50],\n",
        "    'D': [50, 40, 30, 20, 10]\n",
        "}\n",
        "\n",
        "df = pd.DataFrame(data)\n",
        "print(df)\n"
      ],
      "metadata": {
        "colab": {
          "base_uri": "https://localhost:8080/"
        },
        "id": "fs2yWjxaISCl",
        "outputId": "364644d7-fcb2-47a5-fa28-5d7535401dde"
      },
      "execution_count": null,
      "outputs": [
        {
          "output_type": "stream",
          "name": "stdout",
          "text": [
            "   A  B   C   D\n",
            "0  1  5  10  50\n",
            "1  2  4  20  40\n",
            "2  3  3  30  30\n",
            "3  4  2  40  20\n",
            "4  5  1  50  10\n"
          ]
        }
      ]
    },
    {
      "cell_type": "code",
      "source": [
        "#Adding new column\n",
        "df[\"E\"]=[60,70,80,90,100]\n",
        "print(df)"
      ],
      "metadata": {
        "colab": {
          "base_uri": "https://localhost:8080/"
        },
        "id": "08ele5kGJTR1",
        "outputId": "315e728c-27af-43a4-f578-401e9acc7dcb"
      },
      "execution_count": null,
      "outputs": [
        {
          "output_type": "stream",
          "name": "stdout",
          "text": [
            "   A  B   C   D    E\n",
            "0  1  5  10  50   60\n",
            "1  2  4  20  40   70\n",
            "2  3  3  30  30   80\n",
            "3  4  2  40  20   90\n",
            "4  5  1  50  10  100\n"
          ]
        }
      ]
    },
    {
      "cell_type": "code",
      "source": [
        "#Changing Values in column\n",
        "df[\"E\"]=df[\"E\"] +2\n",
        "print(df)"
      ],
      "metadata": {
        "colab": {
          "base_uri": "https://localhost:8080/"
        },
        "id": "Q1vEGzLYK7xe",
        "outputId": "c1617fe6-acf6-4ec3-80b5-b7554610f658"
      },
      "execution_count": null,
      "outputs": [
        {
          "output_type": "stream",
          "name": "stdout",
          "text": [
            "   A  B   C   D    E\n",
            "0  1  5  10  50   62\n",
            "1  2  4  20  40   72\n",
            "2  3  3  30  30   82\n",
            "3  4  2  40  20   92\n",
            "4  5  1  50  10  102\n"
          ]
        }
      ]
    },
    {
      "cell_type": "code",
      "source": [
        "#Rename Column\n",
        "df.rename(columns = {\"E\": \"changed_E\",\"A\": \"changed_A\"}, inplace = True)\n",
        "print(df)"
      ],
      "metadata": {
        "colab": {
          "base_uri": "https://localhost:8080/"
        },
        "id": "TvUoBvLELNCY",
        "outputId": "eb3b9cb3-24ea-4677-bb6e-a592c9c672dc"
      },
      "execution_count": null,
      "outputs": [
        {
          "output_type": "stream",
          "name": "stdout",
          "text": [
            "   changed_A  B   C   D  changed_E\n",
            "0          1  5  10  50         62\n",
            "1          2  4  20  40         72\n",
            "2          3  3  30  30         82\n",
            "3          4  2  40  20         92\n",
            "4          5  1  50  10        102\n"
          ]
        }
      ]
    },
    {
      "cell_type": "code",
      "source": [
        "#Dropping rows\n",
        "df= df.drop(df[df[\"B\"]<3].index)\n",
        "print(df)"
      ],
      "metadata": {
        "colab": {
          "base_uri": "https://localhost:8080/"
        },
        "id": "H76o8EwXLzOD",
        "outputId": "2023d4e7-54c3-479f-f1ec-8f32475f78c2"
      },
      "execution_count": null,
      "outputs": [
        {
          "output_type": "stream",
          "name": "stdout",
          "text": [
            "   changed_A  B   C   D  changed_E\n",
            "0          1  5  10  50         62\n",
            "1          2  4  20  40         72\n",
            "2          3  3  30  30         82\n"
          ]
        }
      ]
    },
    {
      "cell_type": "code",
      "source": [
        "#Dropping columns\n",
        "df = df.drop([\"C\"])\n",
        "print(df)"
      ],
      "metadata": {
        "colab": {
          "base_uri": "https://localhost:8080/"
        },
        "id": "f_sAVCy0OHSb",
        "outputId": "79394919-2b63-44c9-f28a-5a84df50283e"
      },
      "execution_count": null,
      "outputs": [
        {
          "output_type": "stream",
          "name": "stdout",
          "text": [
            "   changed_A   D  changed_E\n",
            "0          1  50         62\n",
            "1          2  40         72\n",
            "2          3  30         82\n"
          ]
        }
      ]
    },
    {
      "cell_type": "code",
      "source": [
        "data = {\n",
        "    'A': [1, 2, 3, 4, 5],\n",
        "    'B': [5, 4, 3, 2, 1],\n",
        "    'C': [10, 20, 30, 40, 50],\n",
        "    'D': [50, 40, 30, 20, 10]\n",
        "}\n",
        "\n",
        "df = pd.DataFrame(data)\n",
        "print(df)\n"
      ],
      "metadata": {
        "colab": {
          "base_uri": "https://localhost:8080/"
        },
        "id": "16zy5QjAOiBo",
        "outputId": "909103d9-76c3-4ae3-8caa-eb17b6ec8ace"
      },
      "execution_count": null,
      "outputs": [
        {
          "output_type": "stream",
          "name": "stdout",
          "text": [
            "   A  B   C   D\n",
            "0  1  5  10  50\n",
            "1  2  4  20  40\n",
            "2  3  3  30  30\n",
            "3  4  2  40  20\n",
            "4  5  1  50  10\n"
          ]
        }
      ]
    },
    {
      "cell_type": "code",
      "source": [
        "#Sorting values of a column\n",
        "df=df.sort_values([\"B\"])\n",
        "print(df)"
      ],
      "metadata": {
        "colab": {
          "base_uri": "https://localhost:8080/"
        },
        "id": "wjITB2iDP0On",
        "outputId": "e76ab1bf-ea5b-4814-f9c4-b6ececf911cc"
      },
      "execution_count": null,
      "outputs": [
        {
          "output_type": "stream",
          "name": "stdout",
          "text": [
            "   B   C   D\n",
            "4  1  50  10\n",
            "3  2  40  20\n",
            "2  3  30  30\n",
            "1  4  20  40\n",
            "0  5  10  50\n"
          ]
        }
      ]
    },
    {
      "cell_type": "code",
      "source": [
        "#resetting index values\n",
        "df=df.reset_index()\n",
        "print(df)"
      ],
      "metadata": {
        "colab": {
          "base_uri": "https://localhost:8080/"
        },
        "id": "y3caZKrxQBCz",
        "outputId": "1f744ad7-2794-4c76-976b-194eafd7f67d"
      },
      "execution_count": null,
      "outputs": [
        {
          "output_type": "stream",
          "name": "stdout",
          "text": [
            "   index  B   C   D\n",
            "0      4  1  50  10\n",
            "1      3  2  40  20\n",
            "2      2  3  30  30\n",
            "3      1  4  20  40\n",
            "4      0  5  10  50\n"
          ]
        }
      ]
    },
    {
      "cell_type": "code",
      "source": [
        "data_with_nans = {\n",
        "    'A': [1, 2, None, 4, 5],\n",
        "    'B': [5, None, 3, 2, 1],\n",
        "    'C': [10, 20, 30, None, 50],\n",
        "    'D': [50, 40, None, 20, 10]\n",
        "}\n",
        "\n",
        "df_nans = pd.DataFrame(data_with_nans)\n",
        "print(df_nans)"
      ],
      "metadata": {
        "colab": {
          "base_uri": "https://localhost:8080/"
        },
        "id": "JyI7QMnhQ5EW",
        "outputId": "6615abdb-8ee2-4430-ae5a-13cdc1ae632b"
      },
      "execution_count": null,
      "outputs": [
        {
          "output_type": "stream",
          "name": "stdout",
          "text": [
            "     A    B     C     D\n",
            "0  1.0  5.0  10.0  50.0\n",
            "1  2.0  NaN  20.0  40.0\n",
            "2  NaN  3.0  30.0   NaN\n",
            "3  4.0  2.0   NaN  20.0\n",
            "4  5.0  1.0  50.0  10.0\n"
          ]
        }
      ]
    },
    {
      "cell_type": "code",
      "source": [
        "#fill missing values\n",
        "df_nans=df_nans.fillna(\"A\")\n",
        "print(df_nans)"
      ],
      "metadata": {
        "colab": {
          "base_uri": "https://localhost:8080/"
        },
        "id": "Og67kFNTRGI6",
        "outputId": "fe132eac-c64e-44fd-a6b6-f929e274baef"
      },
      "execution_count": null,
      "outputs": [
        {
          "output_type": "stream",
          "name": "stdout",
          "text": [
            "     A    B     C     D\n",
            "0  1.0  5.0  10.0  50.0\n",
            "1  2.0    A  20.0  40.0\n",
            "2    A  3.0  30.0     A\n",
            "3  4.0  2.0     A  20.0\n",
            "4  5.0  1.0  50.0  10.0\n"
          ]
        }
      ]
    },
    {
      "cell_type": "code",
      "source": [
        "#Dropping rows with missing values\n",
        "data_with_nans = {\n",
        "    'A': [1, 2, None, 4, 5],\n",
        "    'B': [5, None, 3, 2, 1],\n",
        "    'C': [10, 20, 30, None, 50],\n",
        "    'D': [50, 40, None, 20, 10]\n",
        "}\n",
        "\n",
        "df_nans = pd.DataFrame(data_with_nans)\n",
        "print(df_nans)\n",
        "\n",
        "df_nans = df_nans.dropna()\n",
        "print(df_nans)"
      ],
      "metadata": {
        "colab": {
          "base_uri": "https://localhost:8080/"
        },
        "id": "qHk2HENDRkIf",
        "outputId": "c684f9aa-ebce-466b-9d59-b0254bca077c"
      },
      "execution_count": null,
      "outputs": [
        {
          "output_type": "stream",
          "name": "stdout",
          "text": [
            "     A    B     C     D\n",
            "0  1.0  5.0  10.0  50.0\n",
            "1  2.0  NaN  20.0  40.0\n",
            "2  NaN  3.0  30.0   NaN\n",
            "3  4.0  2.0   NaN  20.0\n",
            "4  5.0  1.0  50.0  10.0\n",
            "     A    B     C     D\n",
            "0  1.0  5.0  10.0  50.0\n",
            "4  5.0  1.0  50.0  10.0\n"
          ]
        }
      ]
    },
    {
      "cell_type": "code",
      "source": [
        "#replace values in dataframe\n",
        "data = {\n",
        "    'A': [1, 2, 3, 4, 5],\n",
        "    'B': [5, 4, 3, 2, 1],\n",
        "    'C': [10, 20, 30, 40, 50],\n",
        "    'D': [50, 40, 30, 20, 10]\n",
        "}\n",
        "\n",
        "df = pd.DataFrame(data)\n",
        "print(df)\n",
        "\n",
        "df=df.replace({1:100,5:500})\n",
        "print(df)"
      ],
      "metadata": {
        "colab": {
          "base_uri": "https://localhost:8080/"
        },
        "id": "QS9MkeHvS4kp",
        "outputId": "2096b0fe-6ddb-4e53-97f8-d57e90e635da"
      },
      "execution_count": null,
      "outputs": [
        {
          "output_type": "stream",
          "name": "stdout",
          "text": [
            "   A  B   C   D\n",
            "0  1  5  10  50\n",
            "1  2  4  20  40\n",
            "2  3  3  30  30\n",
            "3  4  2  40  20\n",
            "4  5  1  50  10\n",
            "     A    B   C   D\n",
            "0  100  500  10  50\n",
            "1    2    4  20  40\n",
            "2    3    3  30  30\n",
            "3    4    2  40  20\n",
            "4  500  100  50  10\n"
          ]
        }
      ]
    },
    {
      "cell_type": "code",
      "source": [
        "#Updating a dataframe\n",
        "data_with_nans = {\n",
        "    'A': [1, 2, None, 4, 5],\n",
        "    'B': [5, None, 3, 2, 1],\n",
        "    'C': [10, 20, 30, None, 50],\n",
        "    'D': [50, 40, None, 20, 10]\n",
        "}\n",
        "\n",
        "df_nans = pd.DataFrame(data_with_nans)\n",
        "print(df_nans)\n",
        "\n",
        "\n",
        "data = {\n",
        "    'A': [1, 2, 3, 4, 5],\n",
        "    'B': [5, 4, 3, 2, 1],\n",
        "    'C': [10, 20, 30, 40, 50],\n",
        "    'D': [50, 40, 30, 20, 10]\n",
        "}\n",
        "\n",
        "df = pd.DataFrame(data)\n",
        "print(df)\n",
        "\n",
        "df_nans.update(df)\n",
        "\n",
        "print(df_nans)"
      ],
      "metadata": {
        "colab": {
          "base_uri": "https://localhost:8080/"
        },
        "id": "DHqO5QsFTYbM",
        "outputId": "86eaed85-39ef-4a62-d089-b593577b760f"
      },
      "execution_count": null,
      "outputs": [
        {
          "output_type": "stream",
          "name": "stdout",
          "text": [
            "     A    B     C     D\n",
            "0  1.0  5.0  10.0  50.0\n",
            "1  2.0  NaN  20.0  40.0\n",
            "2  NaN  3.0  30.0   NaN\n",
            "3  4.0  2.0   NaN  20.0\n",
            "4  5.0  1.0  50.0  10.0\n",
            "   A  B   C   D\n",
            "0  1  5  10  50\n",
            "1  2  4  20  40\n",
            "2  3  3  30  30\n",
            "3  4  2  40  20\n",
            "4  5  1  50  10\n",
            "     A    B     C     D\n",
            "0  1.0  5.0  10.0  50.0\n",
            "1  2.0  4.0  20.0  40.0\n",
            "2  3.0  3.0  30.0  30.0\n",
            "3  4.0  2.0  40.0  20.0\n",
            "4  5.0  1.0  50.0  10.0\n"
          ]
        }
      ]
    },
    {
      "cell_type": "code",
      "source": [
        "#inserting new column in existing dataframe\n",
        "data = {\n",
        "    'A': [1, 2, 3, 4, 5],\n",
        "    'B': [5, 4, 3, 2, 1],\n",
        "    'C': [10, 20, 30, 40, 50],\n",
        "    'D': [50, 40, 30, 20, 10]\n",
        "}\n",
        "\n",
        "df = pd.DataFrame(data)\n",
        "print(df)\n",
        "\n",
        "new_values=[11,22,33,44,55]\n",
        "df.insert(loc=1,column=\"New\",value=new_values)\n",
        "print(df)"
      ],
      "metadata": {
        "colab": {
          "base_uri": "https://localhost:8080/"
        },
        "id": "f8xscKUBUb3h",
        "outputId": "e450078f-9218-4126-ed1a-b8638ae4f475"
      },
      "execution_count": null,
      "outputs": [
        {
          "output_type": "stream",
          "name": "stdout",
          "text": [
            "   A  B   C   D\n",
            "0  1  5  10  50\n",
            "1  2  4  20  40\n",
            "2  3  3  30  30\n",
            "3  4  2  40  20\n",
            "4  5  1  50  10\n",
            "   A  New  B   C   D\n",
            "0  1   11  5  10  50\n",
            "1  2   22  4  20  40\n",
            "2  3   33  3  30  30\n",
            "3  4   44  2  40  20\n",
            "4  5   55  1  50  10\n"
          ]
        }
      ]
    },
    {
      "cell_type": "code",
      "source": [
        "#coverting datatype of column values\n",
        "df[\"A\"]=df[\"A\"].astype(float)\n",
        "print(df)"
      ],
      "metadata": {
        "colab": {
          "base_uri": "https://localhost:8080/"
        },
        "id": "Rxr1u929VmN0",
        "outputId": "bce036e0-f942-4f05-c3f3-329732c9a0f6"
      },
      "execution_count": null,
      "outputs": [
        {
          "output_type": "stream",
          "name": "stdout",
          "text": [
            "     A  New  B   C   D\n",
            "0  1.0   11  5  10  50\n",
            "1  2.0   22  4  20  40\n",
            "2  3.0   33  3  30  30\n",
            "3  4.0   44  2  40  20\n",
            "4  5.0   55  1  50  10\n"
          ]
        }
      ]
    },
    {
      "cell_type": "markdown",
      "source": [
        "Sorting Methods:"
      ],
      "metadata": {
        "id": "GaZNvel8WTbn"
      }
    },
    {
      "cell_type": "code",
      "source": [
        "#Sorting Index of DataFrame\n",
        " data = {\n",
        "    'A': [1, 2, 3, 4, 5],\n",
        "    'B': [5, 4, 3, 2, 1],\n",
        "    'C': [10, 20, 30, 40, 50],\n",
        "    'D': [50, 40, 30, 20, 10]\n",
        "}\n",
        "\n",
        "df = pd.DataFrame(data)\n",
        "print(df)\n",
        "\n",
        "print(\"\\n\")\n",
        "df=df.sort_values([\"B\"])\n",
        "print(df)\n",
        "\n",
        "print(\"\\n\")\n",
        "df.sort_index(inplace=True)\n",
        "print(df)"
      ],
      "metadata": {
        "colab": {
          "base_uri": "https://localhost:8080/"
        },
        "id": "PJGBslK5WWD6",
        "outputId": "35ad2a6b-3652-4f11-bfb3-f370b22bd82c"
      },
      "execution_count": null,
      "outputs": [
        {
          "output_type": "stream",
          "name": "stdout",
          "text": [
            "   A  B   C   D\n",
            "0  1  5  10  50\n",
            "1  2  4  20  40\n",
            "2  3  3  30  30\n",
            "3  4  2  40  20\n",
            "4  5  1  50  10\n",
            "\n",
            "\n",
            "   A  B   C   D\n",
            "4  5  1  50  10\n",
            "3  4  2  40  20\n",
            "2  3  3  30  30\n",
            "1  2  4  20  40\n",
            "0  1  5  10  50\n",
            "\n",
            "\n",
            "   A  B   C   D\n",
            "0  1  5  10  50\n",
            "1  2  4  20  40\n",
            "2  3  3  30  30\n",
            "3  4  2  40  20\n",
            "4  5  1  50  10\n"
          ]
        }
      ]
    },
    {
      "cell_type": "code",
      "source": [
        "#Assigning rank to column\n",
        "data = {\n",
        "    'A': [1, 2, 3, 4, 5],\n",
        "    'B': [5, 4, 3, 2, 1],\n",
        "    'C': [10, 20, 30, 40, 50],\n",
        "    'D': [50, 40, 30, 20, 10]\n",
        "}\n",
        "\n",
        "df = pd.DataFrame(data)\n",
        "print(df)\n",
        "print(\"\\n\")\n",
        "df[\"Rank_Col_C\"]=df[\"C\"].rank()\n",
        "print(df)"
      ],
      "metadata": {
        "colab": {
          "base_uri": "https://localhost:8080/"
        },
        "id": "MGn5XlFkf2gK",
        "outputId": "1769cb0f-6399-4b2c-e189-de9a5cc89d74"
      },
      "execution_count": null,
      "outputs": [
        {
          "output_type": "stream",
          "name": "stdout",
          "text": [
            "   A  B   C   D\n",
            "0  1  5  10  50\n",
            "1  2  4  20  40\n",
            "2  3  3  30  30\n",
            "3  4  2  40  20\n",
            "4  5  1  50  10\n",
            "\n",
            "\n",
            "   A  B   C   D  Rank_Col_C\n",
            "0  1  5  10  50         1.0\n",
            "1  2  4  20  40         2.0\n",
            "2  3  3  30  30         3.0\n",
            "3  4  2  40  20         4.0\n",
            "4  5  1  50  10         5.0\n"
          ]
        }
      ]
    },
    {
      "cell_type": "code",
      "source": [
        "#Setting Index\n",
        "data = {\n",
        "    'A': [1, 2, 3, 4, 5],\n",
        "    'B': [5, 4, 3, 2, 1],\n",
        "    'C': [10, 20, 30, 40, 50],\n",
        "    'D': [50, 40, 30, 20, 10]\n",
        "}\n",
        "\n",
        "df = pd.DataFrame(data)\n",
        "print(df)\n",
        "\n",
        "print(\"\\n\")\n",
        "\n",
        "\n",
        "df=df.set_index([\"A\"])\n",
        "print(df)"
      ],
      "metadata": {
        "colab": {
          "base_uri": "https://localhost:8080/"
        },
        "id": "d7xk9ffLia83",
        "outputId": "32939372-c0f3-446c-9e11-5753fd0b367f"
      },
      "execution_count": null,
      "outputs": [
        {
          "output_type": "stream",
          "name": "stdout",
          "text": [
            "   A  B   C   D\n",
            "0  1  5  10  50\n",
            "1  2  4  20  40\n",
            "2  3  3  30  30\n",
            "3  4  2  40  20\n",
            "4  5  1  50  10\n",
            "\n",
            "\n",
            "   B   C   D\n",
            "A           \n",
            "1  5  10  50\n",
            "2  4  20  40\n",
            "3  3  30  30\n",
            "4  2  40  20\n",
            "5  1  50  10\n"
          ]
        }
      ]
    },
    {
      "cell_type": "markdown",
      "source": [
        "Grouping Data:"
      ],
      "metadata": {
        "id": "agx_JtK3kLEu"
      }
    },
    {
      "cell_type": "code",
      "source": [
        "#Grouping data w.r.t a column:\n",
        "\n",
        "data_for_groupby = {\n",
        "    'Category': ['A', 'A', 'B', 'B', 'C', 'C', 'A', 'B', 'C'],\n",
        "    'Value1': [10, 20, 10, 20, 10, 20, 30, 30, 30],\n",
        "    'Value2': [1, 2, 3, 4, 5, 6, 7, 8, 9]\n",
        "}\n",
        "\n",
        "df_groupby = pd.DataFrame(data_for_groupby)\n",
        "print(df_groupby)\n",
        "\n",
        "print(\"\\n\")\n",
        "\n",
        "df_groupby = df_groupby.groupby([\"Value1\"])\n",
        "\n",
        "print(df_groupby)\n",
        "print(\"\\n\")\n",
        "print(df_groupby.size( ))\n",
        "print(\"\\n\")\n",
        "most_val=df_groupby[\"Value1\"].sum()\n",
        "print(most_val)\n",
        "print(\"\\n\")\n",
        "most_idx=df_groupby[\"Value1\"].idxmax()\n",
        "print(most_idx)"
      ],
      "metadata": {
        "colab": {
          "base_uri": "https://localhost:8080/"
        },
        "id": "0YOBsBJjkOTk",
        "outputId": "e7a67099-6f3e-467e-985b-9430e697d694"
      },
      "execution_count": null,
      "outputs": [
        {
          "output_type": "stream",
          "name": "stdout",
          "text": [
            "  Category  Value1  Value2\n",
            "0        A      10       1\n",
            "1        A      20       2\n",
            "2        B      10       3\n",
            "3        B      20       4\n",
            "4        C      10       5\n",
            "5        C      20       6\n",
            "6        A      30       7\n",
            "7        B      30       8\n",
            "8        C      30       9\n",
            "\n",
            "\n",
            "<pandas.core.groupby.generic.DataFrameGroupBy object at 0x7a1daa47b4f0>\n",
            "\n",
            "\n",
            "Value1\n",
            "10    3\n",
            "20    3\n",
            "30    3\n",
            "dtype: int64\n",
            "\n",
            "\n",
            "Value1\n",
            "10    30\n",
            "20    60\n",
            "30    90\n",
            "Name: Value1, dtype: int64\n",
            "\n",
            "\n",
            "Value1\n",
            "10    0\n",
            "20    1\n",
            "30    6\n",
            "Name: Value1, dtype: int64\n"
          ]
        }
      ]
    },
    {
      "cell_type": "markdown",
      "source": [
        "Data Joining:"
      ],
      "metadata": {
        "id": "Cha4lUzBwuaf"
      }
    },
    {
      "cell_type": "code",
      "source": [
        "#Data Concatenation:\n",
        "data1 = {\n",
        "    'A': [1, 2, 3, 4, 5],\n",
        "    'B': [5, 4, 3, 2, 1],\n",
        "    'C': [10, 20, 30, 40, 50],\n",
        "    'D': [50, 40, 30, 20, 10]\n",
        "}\n",
        "\n",
        "df1 = pd.DataFrame(data1)\n",
        "\n",
        "data2 = {\n",
        "    'A': [10, 20, 30, 40, 50],\n",
        "    'B': [50, 40, 30, 20, 10],\n",
        "    'C': [100, 200, 300, 400, 500],\n",
        "    'D': [500, 400, 300, 200, 100]\n",
        "}\n",
        "\n",
        "df2 = pd.DataFrame(data2)\n",
        "\n",
        "concatenated_df=pd.concat([df1,df2],ignore_index =True)   #gets index in proper order when both dataframe are concatenated\n",
        "#concatenated_df= concatenated_df.reset_index()\n",
        "#result_df= result_df.drop([\"index\"])\n",
        "print(concatenated_df)"
      ],
      "metadata": {
        "colab": {
          "base_uri": "https://localhost:8080/"
        },
        "id": "nuw11RgWwt0k",
        "outputId": "f62ddd34-6af8-41f4-ebcd-ae6dd6af34d0"
      },
      "execution_count": null,
      "outputs": [
        {
          "output_type": "stream",
          "name": "stdout",
          "text": [
            "    A   B    C    D\n",
            "0   1   5   10   50\n",
            "1   2   4   20   40\n",
            "2   3   3   30   30\n",
            "3   4   2   40   20\n",
            "4   5   1   50   10\n",
            "5  10  50  100  500\n",
            "6  20  40  200  400\n",
            "7  30  30  300  300\n",
            "8  40  20  400  200\n",
            "9  50  10  500  100\n"
          ]
        }
      ]
    },
    {
      "cell_type": "code",
      "source": [
        "#Data Merging on basis of common column\n",
        "data1 = {\n",
        "    'A': [1, 2, 3, 4, 5],\n",
        "    'B': [5, 4, 3, 2, 1],\n",
        "    'C': [10, 20, 30, 40, 50],\n",
        "    'D': [50, 40, 30, 20, 10]\n",
        "}\n",
        "\n",
        "df1 = pd.DataFrame(data1)\n",
        "\n",
        "data2 = {\n",
        "    'A': [10, 20, 30, 40, 50],\n",
        "    'B': [50, 40, 30, 20, 10],\n",
        "    'C': [10, 20, 30, 40, 50],\n",
        "    'D': [500, 400, 300, 200, 100]\n",
        "}\n",
        "\n",
        "df2 = pd.DataFrame(data2)\n",
        "\n",
        "merged_df = pd.merge(df1,df2,on=\"C\")\n",
        "print(merged_df)"
      ],
      "metadata": {
        "colab": {
          "base_uri": "https://localhost:8080/"
        },
        "id": "0PYv5H9eyBUk",
        "outputId": "6ab0eb8d-4d9c-4526-9c1c-001ced77c4e1"
      },
      "execution_count": null,
      "outputs": [
        {
          "output_type": "stream",
          "name": "stdout",
          "text": [
            "   A_x  B_x   C  D_x  A_y  B_y  D_y\n",
            "0    1    5  10   50   10   50  500\n",
            "1    2    4  20   40   20   40  400\n",
            "2    3    3  30   30   30   30  300\n",
            "3    4    2  40   20   40   20  200\n",
            "4    5    1  50   10   50   10  100\n"
          ]
        }
      ]
    },
    {
      "cell_type": "code",
      "source": [
        "#Joining DataFrames\n",
        "data1 = {\n",
        "    'A': [1, 2, 3, 4, 5],\n",
        "    'B': [5, 4, 3, 2, 1],\n",
        "    'C': [10, 20, 30, 40, 50],\n",
        "    'D': [50, 40, 30, 20, 10]\n",
        "}\n",
        "\n",
        "df1 = pd.DataFrame(data1,index=['a','b','c','d','e'])\n",
        "\n",
        "data2 = {\n",
        "    'E': [10, 20, 30, 40, 50],\n",
        "    'F': [50, 40, 30, 20, 10],\n",
        "    'G': [10, 20, 30, 40, 50],\n",
        "    'H': [500, 400, 300, 200, 100]\n",
        "}\n",
        "\n",
        "df2 = pd.DataFrame(data2,index=['a','b','c','d','e'])\n",
        "print(df1)\n",
        "print(\"\\n\")\n",
        "print(df2)\n",
        "print(\"\\n\")\n",
        "joined_df = df1.join(df2)\n",
        "print(joined_df)"
      ],
      "metadata": {
        "colab": {
          "base_uri": "https://localhost:8080/"
        },
        "id": "ZmhaeW1qzMrx",
        "outputId": "2647daea-3b94-415b-c97d-e4530ea74ffb"
      },
      "execution_count": null,
      "outputs": [
        {
          "output_type": "stream",
          "name": "stdout",
          "text": [
            "   A  B   C   D\n",
            "a  1  5  10  50\n",
            "b  2  4  20  40\n",
            "c  3  3  30  30\n",
            "d  4  2  40  20\n",
            "e  5  1  50  10\n",
            "\n",
            "\n",
            "    E   F   G    H\n",
            "a  10  50  10  500\n",
            "b  20  40  20  400\n",
            "c  30  30  30  300\n",
            "d  40  20  40  200\n",
            "e  50  10  50  100\n",
            "\n",
            "\n",
            "   A  B   C   D   E   F   G    H\n",
            "a  1  5  10  50  10  50  10  500\n",
            "b  2  4  20  40  20  40  20  400\n",
            "c  3  3  30  30  30  30  30  300\n",
            "d  4  2  40  20  40  20  40  200\n",
            "e  5  1  50  10  50  10  50  100\n"
          ]
        }
      ]
    },
    {
      "cell_type": "code",
      "source": [
        "#Appending DataFrame:\n",
        "data1 = {\n",
        "    'A': [1, 2, 3, 4, 5],\n",
        "    'B': [5, 4, 3, 2, 1],\n",
        "    'C': [10, 20, 30, 40, 50],\n",
        "    'D': [50, 40, 30, 20, 10]\n",
        "}\n",
        "\n",
        "df1 = pd.DataFrame(data1)\n",
        "\n",
        "data2 = {\n",
        "    'A': [10, 20, 30, 40, 50],\n",
        "    'B': [50, 40, 30, 20, 10],\n",
        "    'C': [10, 20, 30, 40, 50],\n",
        "    'D': [500, 400, 300, 200, 100]\n",
        "}\n",
        "\n",
        "df2 = pd.DataFrame(data2)\n",
        "\n",
        "appended_df=df1.append(df2, ignore_index=True)\n",
        "print(appended_df)"
      ],
      "metadata": {
        "colab": {
          "base_uri": "https://localhost:8080/",
          "height": 315
        },
        "id": "PooTEd9o0ciF",
        "outputId": "57cff8f0-b241-4577-9eb5-c31248aedf06"
      },
      "execution_count": null,
      "outputs": [
        {
          "output_type": "error",
          "ename": "AttributeError",
          "evalue": "'DataFrame' object has no attribute 'append'",
          "traceback": [
            "\u001b[0;31m---------------------------------------------------------------------------\u001b[0m",
            "\u001b[0;31mAttributeError\u001b[0m                            Traceback (most recent call last)",
            "\u001b[0;32m<ipython-input-167-c865e8aa1f20>\u001b[0m in \u001b[0;36m<cell line: 20>\u001b[0;34m()\u001b[0m\n\u001b[1;32m     18\u001b[0m \u001b[0mdf2\u001b[0m \u001b[0;34m=\u001b[0m \u001b[0mpd\u001b[0m\u001b[0;34m.\u001b[0m\u001b[0mDataFrame\u001b[0m\u001b[0;34m(\u001b[0m\u001b[0mdata2\u001b[0m\u001b[0;34m)\u001b[0m\u001b[0;34m\u001b[0m\u001b[0;34m\u001b[0m\u001b[0m\n\u001b[1;32m     19\u001b[0m \u001b[0;34m\u001b[0m\u001b[0m\n\u001b[0;32m---> 20\u001b[0;31m \u001b[0mappended_df\u001b[0m\u001b[0;34m=\u001b[0m\u001b[0mdf1\u001b[0m\u001b[0;34m.\u001b[0m\u001b[0mappend\u001b[0m\u001b[0;34m(\u001b[0m\u001b[0mdf2\u001b[0m\u001b[0;34m,\u001b[0m \u001b[0mignore_index\u001b[0m\u001b[0;34m=\u001b[0m\u001b[0;32mTrue\u001b[0m\u001b[0;34m)\u001b[0m\u001b[0;34m\u001b[0m\u001b[0;34m\u001b[0m\u001b[0m\n\u001b[0m\u001b[1;32m     21\u001b[0m \u001b[0mprint\u001b[0m\u001b[0;34m(\u001b[0m\u001b[0mappended_df\u001b[0m\u001b[0;34m)\u001b[0m\u001b[0;34m\u001b[0m\u001b[0;34m\u001b[0m\u001b[0m\n",
            "\u001b[0;32m/usr/local/lib/python3.10/dist-packages/pandas/core/generic.py\u001b[0m in \u001b[0;36m__getattr__\u001b[0;34m(self, name)\u001b[0m\n\u001b[1;32m   5987\u001b[0m         ):\n\u001b[1;32m   5988\u001b[0m             \u001b[0;32mreturn\u001b[0m \u001b[0mself\u001b[0m\u001b[0;34m[\u001b[0m\u001b[0mname\u001b[0m\u001b[0;34m]\u001b[0m\u001b[0;34m\u001b[0m\u001b[0;34m\u001b[0m\u001b[0m\n\u001b[0;32m-> 5989\u001b[0;31m         \u001b[0;32mreturn\u001b[0m \u001b[0mobject\u001b[0m\u001b[0;34m.\u001b[0m\u001b[0m__getattribute__\u001b[0m\u001b[0;34m(\u001b[0m\u001b[0mself\u001b[0m\u001b[0;34m,\u001b[0m \u001b[0mname\u001b[0m\u001b[0;34m)\u001b[0m\u001b[0;34m\u001b[0m\u001b[0;34m\u001b[0m\u001b[0m\n\u001b[0m\u001b[1;32m   5990\u001b[0m \u001b[0;34m\u001b[0m\u001b[0m\n\u001b[1;32m   5991\u001b[0m     \u001b[0;32mdef\u001b[0m \u001b[0m__setattr__\u001b[0m\u001b[0;34m(\u001b[0m\u001b[0mself\u001b[0m\u001b[0;34m,\u001b[0m \u001b[0mname\u001b[0m\u001b[0;34m:\u001b[0m \u001b[0mstr\u001b[0m\u001b[0;34m,\u001b[0m \u001b[0mvalue\u001b[0m\u001b[0;34m)\u001b[0m \u001b[0;34m->\u001b[0m \u001b[0;32mNone\u001b[0m\u001b[0;34m:\u001b[0m\u001b[0;34m\u001b[0m\u001b[0;34m\u001b[0m\u001b[0m\n",
            "\u001b[0;31mAttributeError\u001b[0m: 'DataFrame' object has no attribute 'append'"
          ]
        }
      ]
    },
    {
      "cell_type": "markdown",
      "source": [
        "Data Analysis and Statistics:"
      ],
      "metadata": {
        "id": "4q6hpSvIWGFm"
      }
    },
    {
      "cell_type": "code",
      "source": [
        "import pandas as pd\n",
        "data1 = {\n",
        "    'A': [1, 2, 3, 4, 5],\n",
        "    'B': [5, 4, 3, 2, 1],\n",
        "    'C': [10, 20, 30, 40, 50],\n",
        "    'D': [50, 40, 30, 20, 10]\n",
        "}\n",
        "\n",
        "df1 = pd.DataFrame(data1,index=['a','b','c','d','e'])\n",
        "print(df1)\n",
        "print(\"\\n\")\n",
        "description = df1.describe()\n",
        "print(description)\n",
        "\n",
        "print(\"\\n\")\n",
        "print(df1.info())\n",
        "print(df1.mean())\n",
        "print(df1.median())\n",
        "print(df1.mode())\n",
        "print(df1.std())\n",
        "print(df1.var())\n",
        "print(df1.skew())\n",
        "print(df1.kurt())\n",
        "\n",
        "quantile = df1.quantile(q=[0.25,0.5,0.75])\n",
        "print(quantile)\n",
        "\n",
        "print(df1.corr())\n",
        "print(\"\\n\")\n",
        "print(df1.cov())"
      ],
      "metadata": {
        "colab": {
          "base_uri": "https://localhost:8080/"
        },
        "id": "HvWFKwEsWDpI",
        "outputId": "e65b8852-7563-4fe9-d55b-6f96e6f54519"
      },
      "execution_count": 10,
      "outputs": [
        {
          "output_type": "stream",
          "name": "stdout",
          "text": [
            "   A  B   C   D\n",
            "a  1  5  10  50\n",
            "b  2  4  20  40\n",
            "c  3  3  30  30\n",
            "d  4  2  40  20\n",
            "e  5  1  50  10\n",
            "\n",
            "\n",
            "              A         B          C          D\n",
            "count  5.000000  5.000000   5.000000   5.000000\n",
            "mean   3.000000  3.000000  30.000000  30.000000\n",
            "std    1.581139  1.581139  15.811388  15.811388\n",
            "min    1.000000  1.000000  10.000000  10.000000\n",
            "25%    2.000000  2.000000  20.000000  20.000000\n",
            "50%    3.000000  3.000000  30.000000  30.000000\n",
            "75%    4.000000  4.000000  40.000000  40.000000\n",
            "max    5.000000  5.000000  50.000000  50.000000\n",
            "\n",
            "\n",
            "<class 'pandas.core.frame.DataFrame'>\n",
            "Index: 5 entries, a to e\n",
            "Data columns (total 4 columns):\n",
            " #   Column  Non-Null Count  Dtype\n",
            "---  ------  --------------  -----\n",
            " 0   A       5 non-null      int64\n",
            " 1   B       5 non-null      int64\n",
            " 2   C       5 non-null      int64\n",
            " 3   D       5 non-null      int64\n",
            "dtypes: int64(4)\n",
            "memory usage: 200.0+ bytes\n",
            "None\n",
            "A     3.0\n",
            "B     3.0\n",
            "C    30.0\n",
            "D    30.0\n",
            "dtype: float64\n",
            "A     3.0\n",
            "B     3.0\n",
            "C    30.0\n",
            "D    30.0\n",
            "dtype: float64\n",
            "   A  B   C   D\n",
            "0  1  1  10  10\n",
            "1  2  2  20  20\n",
            "2  3  3  30  30\n",
            "3  4  4  40  40\n",
            "4  5  5  50  50\n",
            "A     1.581139\n",
            "B     1.581139\n",
            "C    15.811388\n",
            "D    15.811388\n",
            "dtype: float64\n",
            "A      2.5\n",
            "B      2.5\n",
            "C    250.0\n",
            "D    250.0\n",
            "dtype: float64\n",
            "A    0.0\n",
            "B    0.0\n",
            "C    0.0\n",
            "D    0.0\n",
            "dtype: float64\n",
            "A   -1.2\n",
            "B   -1.2\n",
            "C   -1.2\n",
            "D   -1.2\n",
            "dtype: float64\n",
            "        A    B     C     D\n",
            "0.25  2.0  2.0  20.0  20.0\n",
            "0.50  3.0  3.0  30.0  30.0\n",
            "0.75  4.0  4.0  40.0  40.0\n",
            "     A    B    C    D\n",
            "A  1.0 -1.0  1.0 -1.0\n",
            "B -1.0  1.0 -1.0  1.0\n",
            "C  1.0 -1.0  1.0 -1.0\n",
            "D -1.0  1.0 -1.0  1.0\n",
            "\n",
            "\n",
            "      A     B      C      D\n",
            "A   2.5  -2.5   25.0  -25.0\n",
            "B  -2.5   2.5  -25.0   25.0\n",
            "C  25.0 -25.0  250.0 -250.0\n",
            "D -25.0  25.0 -250.0  250.0\n"
          ]
        }
      ]
    },
    {
      "cell_type": "markdown",
      "source": [
        "Input and Output:"
      ],
      "metadata": {
        "id": "NMmUdVTGYpfX"
      }
    },
    {
      "cell_type": "code",
      "source": [
        "#Input methods:\n",
        "df=pd.read_csv()\n",
        "df=pd.read_excel()\n",
        "df=pd.read_json()\n",
        "df=pd.read_html()\n",
        "\n",
        "\n",
        "df=pd.read_sql()\n",
        "import sqlite3\n",
        "conn = sqlite3.connect('database.db')\n",
        "query= \"SELECT * FROM table_name\"\n",
        "df=pd.read_sql(query,conn)\n",
        "\n",
        "\n",
        "#Output methods:\n",
        "df.to_csv()\n",
        "df.to_excel()\n",
        "df.to_json()\n",
        "df.to_html()\n",
        "\n",
        "df.to_sql()\n"
      ],
      "metadata": {
        "id": "iSoHXLvCYsSm"
      },
      "execution_count": null,
      "outputs": []
    },
    {
      "cell_type": "markdown",
      "source": [
        "Data Retrieval:"
      ],
      "metadata": {
        "id": "bIMCxsSHZ1J2"
      }
    },
    {
      "cell_type": "code",
      "source": [
        "data1 = {\n",
        "    'A': [1, 2, 3, 4, 5],\n",
        "    'B': [5, 4, 3, 2, 1],\n",
        "    'C': [10, 20, 30, 40, 50],\n",
        "    'D': [50, 40, 30, 20, 10]\n",
        "}\n",
        "\n",
        "df1 = pd.DataFrame(data1,index=['a','b','c','d','e'])\n",
        "print(df1.sample(3))\n",
        "print(\"\\n\")\n",
        "\n",
        "print(df1.head(3))\n",
        "print(\"\\n\")\n",
        "\n",
        "print(df1.tail(3))\n",
        "print(\"\\n\")\n",
        "\n",
        "print(df1.to_string())\n",
        "\n",
        "print(\"\\n\")\n",
        "print(type(df1))\n"
      ],
      "metadata": {
        "colab": {
          "base_uri": "https://localhost:8080/"
        },
        "id": "SVW2Yuk1Z3wV",
        "outputId": "9320cc0d-c33f-4962-f62f-797935f8b918"
      },
      "execution_count": 48,
      "outputs": [
        {
          "output_type": "stream",
          "name": "stdout",
          "text": [
            "   A  B   C   D\n",
            "c  3  3  30  30\n",
            "b  2  4  20  40\n",
            "d  4  2  40  20\n",
            "\n",
            "\n",
            "   A  B   C   D\n",
            "a  1  5  10  50\n",
            "b  2  4  20  40\n",
            "c  3  3  30  30\n",
            "\n",
            "\n",
            "   A  B   C   D\n",
            "c  3  3  30  30\n",
            "d  4  2  40  20\n",
            "e  5  1  50  10\n",
            "\n",
            "\n",
            "   A  B   C   D\n",
            "a  1  5  10  50\n",
            "b  2  4  20  40\n",
            "c  3  3  30  30\n",
            "d  4  2  40  20\n",
            "e  5  1  50  10\n",
            "\n",
            "\n",
            "<class 'pandas.core.frame.DataFrame'>\n"
          ]
        }
      ]
    },
    {
      "cell_type": "markdown",
      "source": [
        "Date and Time Operations:"
      ],
      "metadata": {
        "id": "wsQvYgOuaCzn"
      }
    },
    {
      "cell_type": "code",
      "source": [
        "\n",
        "# Create a sample DataFrame with dates as strings\n",
        "data = {\n",
        "    'name': ['Alice', 'Bob', 'Charlie'],\n",
        "    'date': ['2023-01-01', '2023-02-15', '2023-03-20']\n",
        "}\n",
        "\n",
        "df = pd.DataFrame(data)\n",
        "print(df)\n",
        "print(\"\\n\")\n",
        "print(df.dtypes)\n",
        "print(\"\\n\")\n",
        "df[\"date\"]=pd.to_datetime(df[\"date\"])\n",
        "print(df)\n",
        "print(\"\\n\")\n",
        "print(df.dtypes)\n",
        "\n",
        "\n",
        "#pd.to_timedelta()\n",
        "pd.todate_range(start=\"2023-01-01\",periods=3)"
      ],
      "metadata": {
        "colab": {
          "base_uri": "https://localhost:8080/",
          "height": 540
        },
        "id": "OXJ4oDNraRfK",
        "outputId": "1a0d803d-8e94-41a4-9c7e-97faf19ff592"
      },
      "execution_count": 18,
      "outputs": [
        {
          "output_type": "stream",
          "name": "stdout",
          "text": [
            "      name        date\n",
            "0    Alice  2023-01-01\n",
            "1      Bob  2023-02-15\n",
            "2  Charlie  2023-03-20\n",
            "\n",
            "\n",
            "name    object\n",
            "date    object\n",
            "dtype: object\n",
            "\n",
            "\n",
            "      name       date\n",
            "0    Alice 2023-01-01\n",
            "1      Bob 2023-02-15\n",
            "2  Charlie 2023-03-20\n",
            "\n",
            "\n",
            "name            object\n",
            "date    datetime64[ns]\n",
            "dtype: object\n"
          ]
        },
        {
          "output_type": "error",
          "ename": "TypeError",
          "evalue": "to_timedelta() missing 1 required positional argument: 'arg'",
          "traceback": [
            "\u001b[0;31m---------------------------------------------------------------------------\u001b[0m",
            "\u001b[0;31mTypeError\u001b[0m                                 Traceback (most recent call last)",
            "\u001b[0;32m<ipython-input-18-e894ef101d19>\u001b[0m in \u001b[0;36m<cell line: 18>\u001b[0;34m()\u001b[0m\n\u001b[1;32m     16\u001b[0m \u001b[0;34m\u001b[0m\u001b[0m\n\u001b[1;32m     17\u001b[0m \u001b[0;34m\u001b[0m\u001b[0m\n\u001b[0;32m---> 18\u001b[0;31m \u001b[0mpd\u001b[0m\u001b[0;34m.\u001b[0m\u001b[0mto_timedelta\u001b[0m\u001b[0;34m(\u001b[0m\u001b[0;34m)\u001b[0m\u001b[0;34m\u001b[0m\u001b[0;34m\u001b[0m\u001b[0m\n\u001b[0m\u001b[1;32m     19\u001b[0m \u001b[0mpd\u001b[0m\u001b[0;34m.\u001b[0m\u001b[0mtodate_range\u001b[0m\u001b[0;34m(\u001b[0m\u001b[0mstart\u001b[0m\u001b[0;34m=\u001b[0m\u001b[0;34m\"2023-01-01\"\u001b[0m\u001b[0;34m,\u001b[0m\u001b[0mperiods\u001b[0m\u001b[0;34m=\u001b[0m\u001b[0;36m3\u001b[0m\u001b[0;34m)\u001b[0m\u001b[0;34m\u001b[0m\u001b[0;34m\u001b[0m\u001b[0m\n",
            "\u001b[0;31mTypeError\u001b[0m: to_timedelta() missing 1 required positional argument: 'arg'"
          ]
        }
      ]
    },
    {
      "cell_type": "markdown",
      "source": [
        "Copying / Viewing Data:\n"
      ],
      "metadata": {
        "id": "xhipX2cccFzS"
      }
    },
    {
      "cell_type": "code",
      "source": [
        "data1 = {\n",
        "    'A': [1, 2, 3, 4, 5],\n",
        "    'B': [5, 4, 3, 2, 1],\n",
        "    'C': [10, 20, 30, 40, 50],\n",
        "    'D': [50, 40, 30, 20, 10]\n",
        "}\n",
        "\n",
        "df1 = pd.DataFrame(data1,index=['a','b','c','d','e'])\n",
        "print(df1)\n",
        "\n",
        "df2=df1.copy()\n",
        "print(df2)\n",
        "\n",
        "df3=df1.view()\n",
        "print(df3)"
      ],
      "metadata": {
        "colab": {
          "base_uri": "https://localhost:8080/",
          "height": 523
        },
        "id": "c9Au4PGlcFfi",
        "outputId": "f7378e1c-c122-4442-a5b3-c9194c20c28d"
      },
      "execution_count": 23,
      "outputs": [
        {
          "output_type": "stream",
          "name": "stdout",
          "text": [
            "   A  B   C   D\n",
            "a  1  5  10  50\n",
            "b  2  4  20  40\n",
            "c  3  3  30  30\n",
            "d  4  2  40  20\n",
            "e  5  1  50  10\n",
            "   A  B   C   D\n",
            "a  1  5  10  50\n",
            "b  2  4  20  40\n",
            "c  3  3  30  30\n",
            "d  4  2  40  20\n",
            "e  5  1  50  10\n"
          ]
        },
        {
          "output_type": "error",
          "ename": "AttributeError",
          "evalue": "'DataFrame' object has no attribute 'view'",
          "traceback": [
            "\u001b[0;31m---------------------------------------------------------------------------\u001b[0m",
            "\u001b[0;31mAttributeError\u001b[0m                            Traceback (most recent call last)",
            "\u001b[0;32m<ipython-input-23-ea0940353de5>\u001b[0m in \u001b[0;36m<cell line: 14>\u001b[0;34m()\u001b[0m\n\u001b[1;32m     12\u001b[0m \u001b[0mprint\u001b[0m\u001b[0;34m(\u001b[0m\u001b[0mdf2\u001b[0m\u001b[0;34m)\u001b[0m\u001b[0;34m\u001b[0m\u001b[0;34m\u001b[0m\u001b[0m\n\u001b[1;32m     13\u001b[0m \u001b[0;34m\u001b[0m\u001b[0m\n\u001b[0;32m---> 14\u001b[0;31m \u001b[0mdf3\u001b[0m\u001b[0;34m=\u001b[0m\u001b[0mdf1\u001b[0m\u001b[0;34m.\u001b[0m\u001b[0mview\u001b[0m\u001b[0;34m(\u001b[0m\u001b[0;34m)\u001b[0m\u001b[0;34m\u001b[0m\u001b[0;34m\u001b[0m\u001b[0m\n\u001b[0m\u001b[1;32m     15\u001b[0m \u001b[0mprint\u001b[0m\u001b[0;34m(\u001b[0m\u001b[0mdf3\u001b[0m\u001b[0;34m)\u001b[0m\u001b[0;34m\u001b[0m\u001b[0;34m\u001b[0m\u001b[0m\n",
            "\u001b[0;32m/usr/local/lib/python3.10/dist-packages/pandas/core/generic.py\u001b[0m in \u001b[0;36m__getattr__\u001b[0;34m(self, name)\u001b[0m\n\u001b[1;32m   5987\u001b[0m         ):\n\u001b[1;32m   5988\u001b[0m             \u001b[0;32mreturn\u001b[0m \u001b[0mself\u001b[0m\u001b[0;34m[\u001b[0m\u001b[0mname\u001b[0m\u001b[0;34m]\u001b[0m\u001b[0;34m\u001b[0m\u001b[0;34m\u001b[0m\u001b[0m\n\u001b[0;32m-> 5989\u001b[0;31m         \u001b[0;32mreturn\u001b[0m \u001b[0mobject\u001b[0m\u001b[0;34m.\u001b[0m\u001b[0m__getattribute__\u001b[0m\u001b[0;34m(\u001b[0m\u001b[0mself\u001b[0m\u001b[0;34m,\u001b[0m \u001b[0mname\u001b[0m\u001b[0;34m)\u001b[0m\u001b[0;34m\u001b[0m\u001b[0;34m\u001b[0m\u001b[0m\n\u001b[0m\u001b[1;32m   5990\u001b[0m \u001b[0;34m\u001b[0m\u001b[0m\n\u001b[1;32m   5991\u001b[0m     \u001b[0;32mdef\u001b[0m \u001b[0m__setattr__\u001b[0m\u001b[0;34m(\u001b[0m\u001b[0mself\u001b[0m\u001b[0;34m,\u001b[0m \u001b[0mname\u001b[0m\u001b[0;34m:\u001b[0m \u001b[0mstr\u001b[0m\u001b[0;34m,\u001b[0m \u001b[0mvalue\u001b[0m\u001b[0;34m)\u001b[0m \u001b[0;34m->\u001b[0m \u001b[0;32mNone\u001b[0m\u001b[0;34m:\u001b[0m\u001b[0;34m\u001b[0m\u001b[0;34m\u001b[0m\u001b[0m\n",
            "\u001b[0;31mAttributeError\u001b[0m: 'DataFrame' object has no attribute 'view'"
          ]
        }
      ]
    },
    {
      "cell_type": "markdown",
      "source": [
        "Miscellaneous Methods:"
      ],
      "metadata": {
        "id": "DeBaQFF_cqhN"
      }
    },
    {
      "cell_type": "code",
      "source": [
        "#Unique Values\n",
        "\n",
        "data1 = {\n",
        "    'A': [1, 3, 3, 4, 5],\n",
        "    'B': [5, 4, 3, 2, 1],\n",
        "    'C': [10, 20, 30, 40, 50],\n",
        "    'D': [50, 40, 30, 20, 10]\n",
        "}\n",
        "\n",
        "df1 = pd.DataFrame(data1,index=['a','b','c','d','e'])\n",
        "print(df1)\n",
        "\n",
        "unique_val_A=df1[\"A\"].unique()\n",
        "print(unique_val_A)"
      ],
      "metadata": {
        "colab": {
          "base_uri": "https://localhost:8080/"
        },
        "id": "ATFYbBgGcu2v",
        "outputId": "5011b9b3-09e4-4352-eb3f-7b68c11a78b7"
      },
      "execution_count": 29,
      "outputs": [
        {
          "output_type": "stream",
          "name": "stdout",
          "text": [
            "   A  B   C   D\n",
            "a  1  5  10  50\n",
            "b  3  4  20  40\n",
            "c  3  3  30  30\n",
            "d  4  2  40  20\n",
            "e  5  1  50  10\n",
            "[1 3 4 5]\n"
          ]
        }
      ]
    },
    {
      "cell_type": "code",
      "source": [
        "#Value Counts\n",
        "total_val_count=df1[\"A\"].value_counts()\n",
        "print(total_val_count)"
      ],
      "metadata": {
        "colab": {
          "base_uri": "https://localhost:8080/"
        },
        "id": "0n4k-dFvkveU",
        "outputId": "1d14637d-80bd-4323-c4a4-09ff47a1a3ad"
      },
      "execution_count": 31,
      "outputs": [
        {
          "output_type": "stream",
          "name": "stdout",
          "text": [
            "A\n",
            "3    2\n",
            "1    1\n",
            "4    1\n",
            "5    1\n",
            "Name: count, dtype: int64\n"
          ]
        }
      ]
    },
    {
      "cell_type": "code",
      "source": [
        "#is_na\n",
        "import numpy as np\n",
        "data = {\n",
        "    'name': ['Alice', 'Bob', 'Charlie', 'David', 'Eve'],\n",
        "    'age': [25, np.nan, 30, np.nan, 22],\n",
        "    'city': ['New York', 'Los Angeles', np.nan, 'Chicago', 'Houston']\n",
        "}\n",
        "\n",
        "df = pd.DataFrame(data)\n",
        "print(df)\n",
        "print(\"\\n\")\n",
        "df_with_na=df.isnull()\n",
        "\n",
        "print(df.isnull().sum())\n",
        "print(\"\\n\")\n",
        "print(df_with_na)"
      ],
      "metadata": {
        "colab": {
          "base_uri": "https://localhost:8080/"
        },
        "id": "CevxQEyrliFb",
        "outputId": "b0f27459-ab14-4efd-8183-ab023a82861b"
      },
      "execution_count": 38,
      "outputs": [
        {
          "output_type": "stream",
          "name": "stdout",
          "text": [
            "      name   age         city\n",
            "0    Alice  25.0     New York\n",
            "1      Bob   NaN  Los Angeles\n",
            "2  Charlie  30.0          NaN\n",
            "3    David   NaN      Chicago\n",
            "4      Eve  22.0      Houston\n",
            "\n",
            "\n",
            "name    0\n",
            "age     2\n",
            "city    1\n",
            "dtype: int64\n",
            "\n",
            "\n",
            "    name    age   city\n",
            "0  False  False  False\n",
            "1  False   True  False\n",
            "2  False  False   True\n",
            "3  False   True  False\n",
            "4  False  False  False\n"
          ]
        }
      ]
    },
    {
      "cell_type": "code",
      "source": [
        "#Duplicate values\n",
        "data = {\n",
        "    'name': ['Alice', 'Bob', 'Charlie', 'Alice', 'Bob'],\n",
        "    'age': [25, 30, 35, 25, 30],\n",
        "    'city': ['New York', 'Los Angeles', 'Chicago', 'New York', 'Los Angeles']\n",
        "}\n",
        "\n",
        "df = pd.DataFrame(data)\n",
        "print(df)\n",
        "print(\"\\n\")\n",
        "duplicate_values=df.duplicated()\n",
        "print(duplicate_values)"
      ],
      "metadata": {
        "colab": {
          "base_uri": "https://localhost:8080/"
        },
        "id": "HLdP2y3RmlWs",
        "outputId": "31bed2ea-2ea9-471c-dc1e-caa2be0e3710"
      },
      "execution_count": 43,
      "outputs": [
        {
          "output_type": "stream",
          "name": "stdout",
          "text": [
            "      name  age         city\n",
            "0    Alice   25     New York\n",
            "1      Bob   30  Los Angeles\n",
            "2  Charlie   35      Chicago\n",
            "3    Alice   25     New York\n",
            "4      Bob   30  Los Angeles\n",
            "\n",
            "\n",
            "0    False\n",
            "1    False\n",
            "2    False\n",
            "3     True\n",
            "4     True\n",
            "dtype: bool\n"
          ]
        }
      ]
    },
    {
      "cell_type": "code",
      "source": [
        "#Drop_Duplicates\n",
        "df_unique=df.drop_duplicates()\n",
        "print(df_unique)"
      ],
      "metadata": {
        "colab": {
          "base_uri": "https://localhost:8080/"
        },
        "id": "4AhG31jenNp1",
        "outputId": "24e74657-6310-404f-8127-c760dd7a3237"
      },
      "execution_count": 44,
      "outputs": [
        {
          "output_type": "stream",
          "name": "stdout",
          "text": [
            "      name  age         city\n",
            "0    Alice   25     New York\n",
            "1      Bob   30  Los Angeles\n",
            "2  Charlie   35      Chicago\n"
          ]
        }
      ]
    },
    {
      "cell_type": "code",
      "source": [],
      "metadata": {
        "id": "HOPNA1wFnuog"
      },
      "execution_count": null,
      "outputs": []
    }
  ]
}