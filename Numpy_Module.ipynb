{
  "nbformat": 4,
  "nbformat_minor": 0,
  "metadata": {
    "colab": {
      "provenance": [],
      "authorship_tag": "ABX9TyPGg45CZu9n/O/rvdUPjXBv",
      "include_colab_link": true
    },
    "kernelspec": {
      "name": "python3",
      "display_name": "Python 3"
    },
    "language_info": {
      "name": "python"
    }
  },
  "cells": [
    {
      "cell_type": "markdown",
      "metadata": {
        "id": "view-in-github",
        "colab_type": "text"
      },
      "source": [
        "<a href=\"https://colab.research.google.com/github/shree0140/Python_Libraries_Basics/blob/main/Numpy_Module.ipynb\" target=\"_parent\"><img src=\"https://colab.research.google.com/assets/colab-badge.svg\" alt=\"Open In Colab\"/></a>"
      ]
    },
    {
      "cell_type": "markdown",
      "source": [
        "NUMPY:"
      ],
      "metadata": {
        "id": "9yKFEAEetpTC"
      }
    },
    {
      "cell_type": "markdown",
      "source": [
        "Array Creation:"
      ],
      "metadata": {
        "id": "nkGL7jSgcXbn"
      }
    },
    {
      "cell_type": "code",
      "execution_count": 19,
      "metadata": {
        "id": "F0-5Xg20tjUX",
        "colab": {
          "base_uri": "https://localhost:8080/"
        },
        "outputId": "9153cf12-4ca4-4074-e9a1-5f6ef402503b"
      },
      "outputs": [
        {
          "output_type": "stream",
          "name": "stdout",
          "text": [
            "[1 2 3 4 5]\n"
          ]
        }
      ],
      "source": [
        "import numpy as np\n",
        "arr_1 = np.array([1,2,3,4,5])\n",
        "print(arr_1)"
      ]
    },
    {
      "cell_type": "code",
      "source": [
        "arr_2 = np.arange(0,10,2)\n",
        "print(arr_2)"
      ],
      "metadata": {
        "id": "p36cfmObto5q",
        "colab": {
          "base_uri": "https://localhost:8080/"
        },
        "outputId": "1d927d90-7158-4cb9-e875-9f94c807bc05"
      },
      "execution_count": 20,
      "outputs": [
        {
          "output_type": "stream",
          "name": "stdout",
          "text": [
            "[0 2 4 6 8]\n"
          ]
        }
      ]
    },
    {
      "cell_type": "code",
      "source": [
        "arr_3 = np.linspace(0,10,5)\n",
        "print(arr_3)"
      ],
      "metadata": {
        "colab": {
          "base_uri": "https://localhost:8080/"
        },
        "id": "OGOGytaCfcmv",
        "outputId": "f95deee4-c3aa-4c42-c09c-013333f85382"
      },
      "execution_count": 21,
      "outputs": [
        {
          "output_type": "stream",
          "name": "stdout",
          "text": [
            "[ 0.   2.5  5.   7.5 10. ]\n"
          ]
        }
      ]
    },
    {
      "cell_type": "code",
      "source": [
        "arr_4 = np.zeros((2,2))\n",
        "print(arr_4)"
      ],
      "metadata": {
        "colab": {
          "base_uri": "https://localhost:8080/"
        },
        "id": "zrhCnTc_fjlG",
        "outputId": "ad163bdc-01f1-4eb3-cda2-54c7d9416b18"
      },
      "execution_count": 22,
      "outputs": [
        {
          "output_type": "stream",
          "name": "stdout",
          "text": [
            "[[0. 0.]\n",
            " [0. 0.]]\n"
          ]
        }
      ]
    },
    {
      "cell_type": "code",
      "source": [
        "arr_5 = np.ones((4,5))\n",
        "print(arr_5)"
      ],
      "metadata": {
        "colab": {
          "base_uri": "https://localhost:8080/"
        },
        "id": "mIYed0sJfo22",
        "outputId": "e6b2f250-e873-4507-fae8-b5ca7bc8a334"
      },
      "execution_count": 23,
      "outputs": [
        {
          "output_type": "stream",
          "name": "stdout",
          "text": [
            "[[1. 1. 1. 1. 1.]\n",
            " [1. 1. 1. 1. 1.]\n",
            " [1. 1. 1. 1. 1.]\n",
            " [1. 1. 1. 1. 1.]]\n"
          ]
        }
      ]
    },
    {
      "cell_type": "code",
      "source": [
        "#arr_6 = np.eye(6)\n",
        "arr_6 = np.identity(6)\n",
        "print(arr_6)"
      ],
      "metadata": {
        "colab": {
          "base_uri": "https://localhost:8080/"
        },
        "id": "9MP4dPSpfuud",
        "outputId": "7f7d7255-9a26-4428-fe72-26936ed97ea0"
      },
      "execution_count": 25,
      "outputs": [
        {
          "output_type": "stream",
          "name": "stdout",
          "text": [
            "[[1. 0. 0. 0. 0. 0.]\n",
            " [0. 1. 0. 0. 0. 0.]\n",
            " [0. 0. 1. 0. 0. 0.]\n",
            " [0. 0. 0. 1. 0. 0.]\n",
            " [0. 0. 0. 0. 1. 0.]\n",
            " [0. 0. 0. 0. 0. 1.]]\n"
          ]
        }
      ]
    },
    {
      "cell_type": "code",
      "source": [
        "string_1 = \"Python\"\n",
        "arr_7 = np.fromiter(string_1, dtype=\"U2\")\n",
        "print(arr_7)"
      ],
      "metadata": {
        "colab": {
          "base_uri": "https://localhost:8080/"
        },
        "id": "lC3aADSlgGSI",
        "outputId": "2b1b8114-3fdf-408b-9346-6cb8b5b285cd"
      },
      "execution_count": 26,
      "outputs": [
        {
          "output_type": "stream",
          "name": "stdout",
          "text": [
            "['P' 'y' 't' 'h' 'o' 'n']\n"
          ]
        }
      ]
    },
    {
      "cell_type": "markdown",
      "source": [
        "Random Number Generation:"
      ],
      "metadata": {
        "id": "biV0aKN0jcQi"
      }
    },
    {
      "cell_type": "code",
      "source": [
        "import random\n",
        "arr_1 = np.random.rand(5)\n",
        "print(arr_1)"
      ],
      "metadata": {
        "colab": {
          "base_uri": "https://localhost:8080/"
        },
        "id": "QtEZlmHgjhyn",
        "outputId": "cc8e8364-9e3b-46a4-bb90-9af206311498"
      },
      "execution_count": 27,
      "outputs": [
        {
          "output_type": "stream",
          "name": "stdout",
          "text": [
            "[0.35011779 0.00653216 0.49730409 0.02744359 0.45290854]\n"
          ]
        }
      ]
    },
    {
      "cell_type": "code",
      "source": [
        "arr_val = np.random.randint(1,100)\n",
        "print(arr_val)\n",
        "arr_2 = np.random.randint(1,100,10)\n",
        "print(arr_2)"
      ],
      "metadata": {
        "colab": {
          "base_uri": "https://localhost:8080/"
        },
        "id": "4XyiNq_rjwGX",
        "outputId": "0da1ba9d-4eff-49d4-98ae-ef07a71e6c8d"
      },
      "execution_count": 30,
      "outputs": [
        {
          "output_type": "stream",
          "name": "stdout",
          "text": [
            "75\n",
            "[88 51 79 49 81 15 64 25 95 90]\n"
          ]
        }
      ]
    },
    {
      "cell_type": "code",
      "source": [
        "choice_list = [1,2,3,4,5]\n",
        "choice = np.random.choice(choice_list)\n",
        "print(choice)"
      ],
      "metadata": {
        "colab": {
          "base_uri": "https://localhost:8080/"
        },
        "id": "ID1eWqFwkkEu",
        "outputId": "fda2876e-16a2-48f0-9b8a-4e8344aa24ea"
      },
      "execution_count": 34,
      "outputs": [
        {
          "output_type": "stream",
          "name": "stdout",
          "text": [
            "3\n"
          ]
        }
      ]
    },
    {
      "cell_type": "code",
      "source": [
        "shuffle_list = [1,2,3,4,5]\n",
        "np.random.shuffle(shuffle_list)\n",
        "print(shuffle_list)"
      ],
      "metadata": {
        "colab": {
          "base_uri": "https://localhost:8080/"
        },
        "id": "BFnX_Mvak-Ze",
        "outputId": "347f0854-2b20-49e7-ac13-cf5ba419f0fe"
      },
      "execution_count": 36,
      "outputs": [
        {
          "output_type": "stream",
          "name": "stdout",
          "text": [
            "[5, 4, 1, 3, 2]\n"
          ]
        }
      ]
    },
    {
      "cell_type": "code",
      "source": [
        "np.random.seed(10)\n",
        "random_no = np.random.randint(0,100,5)\n",
        "print(random_no)"
      ],
      "metadata": {
        "colab": {
          "base_uri": "https://localhost:8080/"
        },
        "id": "fXZiN73umyq3",
        "outputId": "dd63a237-b819-4e24-e2f7-c1a7f64222f2"
      },
      "execution_count": 42,
      "outputs": [
        {
          "output_type": "stream",
          "name": "stdout",
          "text": [
            "[ 9 15 64 28 89]\n"
          ]
        }
      ]
    },
    {
      "cell_type": "markdown",
      "source": [
        "Array Manipulation:"
      ],
      "metadata": {
        "id": "Psg089OWjg2Z"
      }
    },
    {
      "cell_type": "code",
      "source": [
        "arr_1 = [1,2,3,4,5,6]\n",
        "reshaped_arr = np.reshape(arr_1,(2,3))\n",
        "print(reshaped_arr)"
      ],
      "metadata": {
        "colab": {
          "base_uri": "https://localhost:8080/"
        },
        "id": "0carH_7Hot92",
        "outputId": "54226d8a-ff7f-4746-8571-fa88c564509c"
      },
      "execution_count": 43,
      "outputs": [
        {
          "output_type": "stream",
          "name": "stdout",
          "text": [
            "[[1 2 3]\n",
            " [4 5 6]]\n"
          ]
        }
      ]
    },
    {
      "cell_type": "code",
      "source": [
        "arr_2 = np.array([[1, 2, 3],[4, 5, 6]])\n",
        "#print(arr_2)\n",
        "flat_array = np.ravel(arr_2)\n",
        "print(flat_array)"
      ],
      "metadata": {
        "colab": {
          "base_uri": "https://localhost:8080/"
        },
        "id": "G28DDk_spG-R",
        "outputId": "480e3ce2-c321-49bd-d349-555d1e47e95e"
      },
      "execution_count": 49,
      "outputs": [
        {
          "output_type": "stream",
          "name": "stdout",
          "text": [
            "[[1 2 3]\n",
            " [4 5 6]]\n",
            "[1 2 3 4 5 6]\n"
          ]
        }
      ]
    },
    {
      "cell_type": "code",
      "source": [
        "arr_2 = np.array([[1, 2, 3],[4, 5, 6]])\n",
        "transposed_array = np.transpose(arr_2)\n",
        "print(transposed_array)"
      ],
      "metadata": {
        "colab": {
          "base_uri": "https://localhost:8080/"
        },
        "id": "1hAcoe91pvwc",
        "outputId": "f57616f1-26d7-4182-8e44-3565f47acb52"
      },
      "execution_count": 51,
      "outputs": [
        {
          "output_type": "stream",
          "name": "stdout",
          "text": [
            "[[1 4]\n",
            " [2 5]\n",
            " [3 6]]\n"
          ]
        }
      ]
    },
    {
      "cell_type": "code",
      "source": [
        "arr_2 = np.array([[1, 2, 3],[4, 5, 6]])\n",
        "arr_3 = np.array([[1, 2, 3],[4, 5, 6]])\n",
        "concatenated_array_col_wise = np.concatenate((arr_2,arr_3))\n",
        "print(concatenated_array_col_wise)"
      ],
      "metadata": {
        "colab": {
          "base_uri": "https://localhost:8080/"
        },
        "id": "uIFOdAy5qk5w",
        "outputId": "a4077126-0996-4296-cae2-270415918870"
      },
      "execution_count": 59,
      "outputs": [
        {
          "output_type": "stream",
          "name": "stdout",
          "text": [
            "[[1 2 3]\n",
            " [4 5 6]\n",
            " [1 2 3]\n",
            " [4 5 6]]\n"
          ]
        }
      ]
    },
    {
      "cell_type": "code",
      "source": [
        "arr_1 = [1,2,3]\n",
        "arr_2 = [4,5,6]\n",
        "concatenated_array = np.concatenate((arr_1,arr_2))\n",
        "print(concatenated_array)"
      ],
      "metadata": {
        "colab": {
          "base_uri": "https://localhost:8080/"
        },
        "id": "Zhw0uncSqAlj",
        "outputId": "6c83519d-2504-492f-84af-1efa44fa9a25"
      },
      "execution_count": 60,
      "outputs": [
        {
          "output_type": "stream",
          "name": "stdout",
          "text": [
            "[1 2 3 4 5 6]\n"
          ]
        }
      ]
    },
    {
      "cell_type": "code",
      "source": [
        "arr_2 = np.array([[1, 2, 3],[4, 5, 6]])\n",
        "arr_3 = np.array([[1, 2, 3],[4, 5, 6]])\n",
        "vertically_stacked =np.vstack((arr_2,arr_3))\n",
        "print(vertically_stacked)"
      ],
      "metadata": {
        "colab": {
          "base_uri": "https://localhost:8080/"
        },
        "id": "o3WeXmugrtNy",
        "outputId": "aa0cdafd-7823-4aed-ccfa-cacda6492715"
      },
      "execution_count": 61,
      "outputs": [
        {
          "output_type": "stream",
          "name": "stdout",
          "text": [
            "[[1 2 3]\n",
            " [4 5 6]\n",
            " [1 2 3]\n",
            " [4 5 6]]\n"
          ]
        }
      ]
    },
    {
      "cell_type": "code",
      "source": [
        "arr_2 = np.array([[1, 2, 3],[4, 5, 6]])\n",
        "arr_3 = np.array([[1, 2, 3],[4, 5, 6]])\n",
        "horizontally_stacked =np.hstack((arr_2,arr_3))\n",
        "print(horizontally_stacked)"
      ],
      "metadata": {
        "colab": {
          "base_uri": "https://localhost:8080/"
        },
        "id": "KgyEqTEdr3Rt",
        "outputId": "ba1c6ead-5257-4c0e-8270-51a77432d9b9"
      },
      "execution_count": 62,
      "outputs": [
        {
          "output_type": "stream",
          "name": "stdout",
          "text": [
            "[[1 2 3 1 2 3]\n",
            " [4 5 6 4 5 6]]\n"
          ]
        }
      ]
    },
    {
      "cell_type": "code",
      "source": [
        "arr = np.array([1,2,3,4,5,6,7,8])\n",
        "splits = np.split(arr,2)\n",
        "print(splits)\n",
        "print(type(splits))"
      ],
      "metadata": {
        "colab": {
          "base_uri": "https://localhost:8080/"
        },
        "id": "kXLi2HTcsAQe",
        "outputId": "6d7e19f7-c58d-4a1c-8490-412c97b7af75"
      },
      "execution_count": 64,
      "outputs": [
        {
          "output_type": "stream",
          "name": "stdout",
          "text": [
            "[array([1, 2, 3, 4]), array([5, 6, 7, 8])]\n",
            "<class 'list'>\n"
          ]
        }
      ]
    },
    {
      "cell_type": "code",
      "source": [
        "arr = np.array([1,2,3,4,5,6,7,8])\n",
        "appended_arr= np.append(arr,9)\n",
        "print(appended_arr)"
      ],
      "metadata": {
        "colab": {
          "base_uri": "https://localhost:8080/"
        },
        "id": "3FyeKoH8sJSI",
        "outputId": "9cd041f1-f129-4007-a1b5-7eb42068b26c"
      },
      "execution_count": 65,
      "outputs": [
        {
          "output_type": "stream",
          "name": "stdout",
          "text": [
            "[1 2 3 4 5 6 7 8 9]\n"
          ]
        }
      ]
    },
    {
      "cell_type": "code",
      "source": [
        "arr = np.array([1,2,3,4,5,6,7,8])\n",
        "del_val = np.delete(arr, 2)\n",
        "print(del_val)"
      ],
      "metadata": {
        "colab": {
          "base_uri": "https://localhost:8080/"
        },
        "id": "_5HH9Najs85I",
        "outputId": "bc6fdf2d-44c0-44f7-8f39-5523a0d5c2bc"
      },
      "execution_count": 66,
      "outputs": [
        {
          "output_type": "stream",
          "name": "stdout",
          "text": [
            "[1 2 4 5 6 7 8]\n"
          ]
        }
      ]
    },
    {
      "cell_type": "code",
      "source": [
        "arr = np.array([1,2,3,4,5,6,7,8])\n",
        "np.random.shuffle(arr)\n",
        "print(arr)\n",
        "sorted_arr = np.sort(arr)\n",
        "print(sorted_arr)"
      ],
      "metadata": {
        "colab": {
          "base_uri": "https://localhost:8080/"
        },
        "id": "aA1_spictLzz",
        "outputId": "b677fdfd-f8cf-4d59-cd3a-b93ba433cf44"
      },
      "execution_count": 67,
      "outputs": [
        {
          "output_type": "stream",
          "name": "stdout",
          "text": [
            "[4 5 7 3 2 8 1 6]\n",
            "[1 2 3 4 5 6 7 8]\n"
          ]
        }
      ]
    },
    {
      "cell_type": "markdown",
      "source": [
        "Mathematical Operatios:"
      ],
      "metadata": {
        "id": "h3VgKdaBth_a"
      }
    },
    {
      "cell_type": "code",
      "source": [
        "arr = np.array([1,2,3])\n",
        "sum = np.sum(arr)\n",
        "print(sum)"
      ],
      "metadata": {
        "colab": {
          "base_uri": "https://localhost:8080/"
        },
        "id": "S1Sl8pTStgDS",
        "outputId": "9b1b6f1e-2f73-4eee-8155-43daf26a1076"
      },
      "execution_count": 68,
      "outputs": [
        {
          "output_type": "stream",
          "name": "stdout",
          "text": [
            "6\n"
          ]
        }
      ]
    },
    {
      "cell_type": "code",
      "source": [
        "arr = np.array([1,2,3])\n",
        "print(np.mean(arr))"
      ],
      "metadata": {
        "colab": {
          "base_uri": "https://localhost:8080/"
        },
        "id": "Y909PBsWtvDX",
        "outputId": "f2514b67-7d6a-4a09-f69b-d72d18626ccc"
      },
      "execution_count": 69,
      "outputs": [
        {
          "output_type": "stream",
          "name": "stdout",
          "text": [
            "2.0\n"
          ]
        }
      ]
    },
    {
      "cell_type": "code",
      "source": [
        "arr = np.array([1,2,3])\n",
        "print(np.min(arr))"
      ],
      "metadata": {
        "colab": {
          "base_uri": "https://localhost:8080/"
        },
        "id": "XBD-00sgt1ia",
        "outputId": "e1d4fd95-598e-4fb5-fc8b-0bbce54ad269"
      },
      "execution_count": 70,
      "outputs": [
        {
          "output_type": "stream",
          "name": "stdout",
          "text": [
            "1\n"
          ]
        }
      ]
    },
    {
      "cell_type": "code",
      "source": [
        "arr = np.array([1,2,3])\n",
        "print(np.max(arr))"
      ],
      "metadata": {
        "colab": {
          "base_uri": "https://localhost:8080/"
        },
        "id": "qewtaYMit426",
        "outputId": "db4565c3-8388-48c3-bdf3-4be6c25d1ea6"
      },
      "execution_count": 71,
      "outputs": [
        {
          "output_type": "stream",
          "name": "stdout",
          "text": [
            "3\n"
          ]
        }
      ]
    },
    {
      "cell_type": "code",
      "source": [
        "arr = np.array([1,2,3])\n",
        "print(np.std(arr))"
      ],
      "metadata": {
        "colab": {
          "base_uri": "https://localhost:8080/"
        },
        "id": "r7IVcqWht6-c",
        "outputId": "4a47980b-78ba-4a62-fcd6-11a403abfbe1"
      },
      "execution_count": 72,
      "outputs": [
        {
          "output_type": "stream",
          "name": "stdout",
          "text": [
            "0.816496580927726\n"
          ]
        }
      ]
    },
    {
      "cell_type": "code",
      "source": [
        "arr = np.array([1,2,3])\n",
        "print(np.prod(arr))"
      ],
      "metadata": {
        "colab": {
          "base_uri": "https://localhost:8080/"
        },
        "id": "4UMvZqj-t_Zk",
        "outputId": "3f5dfa11-74c9-44e5-9378-5c76eee11006"
      },
      "execution_count": 73,
      "outputs": [
        {
          "output_type": "stream",
          "name": "stdout",
          "text": [
            "6\n"
          ]
        }
      ]
    },
    {
      "cell_type": "code",
      "source": [
        "arr = np.array([1,2,3])\n",
        "arr_2 = np.array([1,2,3])\n",
        "print(np.power(arr,arr_2))"
      ],
      "metadata": {
        "colab": {
          "base_uri": "https://localhost:8080/"
        },
        "id": "i0GcbBJ5uB3c",
        "outputId": "ce2f5711-70ce-4a1f-9c62-31ff86975567"
      },
      "execution_count": 76,
      "outputs": [
        {
          "output_type": "stream",
          "name": "stdout",
          "text": [
            "[ 1  4 27]\n"
          ]
        }
      ]
    },
    {
      "cell_type": "markdown",
      "source": [
        "Array Descriptive Attribute:"
      ],
      "metadata": {
        "id": "TmgXSU8Vw9vR"
      }
    },
    {
      "cell_type": "code",
      "source": [
        "arr = np.array([1,2,3,4,5,6,7,8])\n",
        "print(arr.shape)\n",
        "print(arr.size)\n",
        "print(arr.ndim)\n",
        "print(arr.dtype)\n",
        "print(arr.itemsize)"
      ],
      "metadata": {
        "colab": {
          "base_uri": "https://localhost:8080/"
        },
        "id": "xwBTSt_kxDqZ",
        "outputId": "db74acfc-0131-43f6-97d2-3da1ce13be89"
      },
      "execution_count": 83,
      "outputs": [
        {
          "output_type": "stream",
          "name": "stdout",
          "text": [
            "(8,)\n",
            "8\n",
            "1\n",
            "int64\n",
            "8\n"
          ]
        }
      ]
    },
    {
      "cell_type": "markdown",
      "source": [
        "Other Methods:"
      ],
      "metadata": {
        "id": "HtnjbP2mxsCc"
      }
    },
    {
      "cell_type": "code",
      "source": [
        "arr = np.array([1,2,3,4,5,6,7,8])\n",
        "copied_arr = np.copy(arr)\n",
        "print(copied_arr)"
      ],
      "metadata": {
        "colab": {
          "base_uri": "https://localhost:8080/"
        },
        "id": "lejS2dL8xukz",
        "outputId": "245d8131-8547-4caf-fd27-36b3c89e6110"
      },
      "execution_count": 78,
      "outputs": [
        {
          "output_type": "stream",
          "name": "stdout",
          "text": [
            "[1 2 3 4 5 6 7 8]\n"
          ]
        }
      ]
    },
    {
      "cell_type": "code",
      "source": [
        "arr = np.array([1,2,3,4,5,6,7,8])\n",
        "filtered_output = np.where(arr <5, \"lower\", \"upper\")\n",
        "print(filtered_output)"
      ],
      "metadata": {
        "colab": {
          "base_uri": "https://localhost:8080/"
        },
        "id": "DycavPd6yB99",
        "outputId": "6296e5bd-3477-445c-ed94-2fc5c0a6cb1d"
      },
      "execution_count": 79,
      "outputs": [
        {
          "output_type": "stream",
          "name": "stdout",
          "text": [
            "['lower' 'lower' 'lower' 'lower' 'upper' 'upper' 'upper' 'upper']\n"
          ]
        }
      ]
    },
    {
      "cell_type": "code",
      "source": [
        "arr = np.array([1,2,3,4,5,6,7,8])\n",
        "position = np.searchsorted(arr,5)\n",
        "print(position)"
      ],
      "metadata": {
        "colab": {
          "base_uri": "https://localhost:8080/"
        },
        "id": "J95es324yVDV",
        "outputId": "44d41089-2c10-444b-b226-06a7d096dd0f"
      },
      "execution_count": 80,
      "outputs": [
        {
          "output_type": "stream",
          "name": "stdout",
          "text": [
            "4\n"
          ]
        }
      ]
    },
    {
      "cell_type": "code",
      "source": [
        "arr = np.array([1,1,1,2,3,4,4,4,5,6,6,7,8])\n",
        "unique_array = np.unique(arr)\n",
        "print(unique_array)"
      ],
      "metadata": {
        "colab": {
          "base_uri": "https://localhost:8080/"
        },
        "id": "TRg2zxeAyqzP",
        "outputId": "266ca935-4470-4764-b948-90bd98c4813b"
      },
      "execution_count": 81,
      "outputs": [
        {
          "output_type": "stream",
          "name": "stdout",
          "text": [
            "[1 2 3 4 5 6 7 8]\n"
          ]
        }
      ]
    },
    {
      "cell_type": "code",
      "source": [
        "arr = np.array([1,2,3,4,5,6,7,8])\n",
        "arr.astype(str)\n",
        "print(arr.dtype)"
      ],
      "metadata": {
        "colab": {
          "base_uri": "https://localhost:8080/"
        },
        "id": "em1YfAYey8f_",
        "outputId": "37d03a11-73cc-4ffd-c3a9-61348dafd60c"
      },
      "execution_count": 85,
      "outputs": [
        {
          "output_type": "stream",
          "name": "stdout",
          "text": [
            "int64\n"
          ]
        }
      ]
    },
    {
      "cell_type": "code",
      "source": [
        "arr = np.array([1,2,3,4,5,6,7,8])\n",
        "for i in np.nditer(arr):\n",
        "  print(i)"
      ],
      "metadata": {
        "colab": {
          "base_uri": "https://localhost:8080/"
        },
        "id": "c7u5SSe40gNy",
        "outputId": "39a63653-0f18-4f9c-8008-00bba80ee52f"
      },
      "execution_count": 86,
      "outputs": [
        {
          "output_type": "stream",
          "name": "stdout",
          "text": [
            "1\n",
            "2\n",
            "3\n",
            "4\n",
            "5\n",
            "6\n",
            "7\n",
            "8\n"
          ]
        }
      ]
    },
    {
      "cell_type": "code",
      "source": [
        "arr = np.array([1,2,3,4,5,6,7,8])\n",
        "for idx,i in np.ndenumerate(arr):\n",
        "  print(idx,i)"
      ],
      "metadata": {
        "colab": {
          "base_uri": "https://localhost:8080/"
        },
        "id": "LTKqMHcR0oAK",
        "outputId": "f3bd7450-9fe9-4d03-92f5-2e7a792434db"
      },
      "execution_count": 89,
      "outputs": [
        {
          "output_type": "stream",
          "name": "stdout",
          "text": [
            "(0,) 1\n",
            "(1,) 2\n",
            "(2,) 3\n",
            "(3,) 4\n",
            "(4,) 5\n",
            "(5,) 6\n",
            "(6,) 7\n",
            "(7,) 8\n"
          ]
        }
      ]
    },
    {
      "cell_type": "code",
      "source": [
        "arr =np.array([1,2,3,4,5,6,7,8,9])\n",
        "percentile_val = np.percentile(arr,[25,50])\n",
        "print(percentile_val)\n",
        "print(percentile_val.dtype)"
      ],
      "metadata": {
        "colab": {
          "base_uri": "https://localhost:8080/"
        },
        "id": "yhndMU4w1B13",
        "outputId": "61a6e7bf-49aa-4f3b-eae5-9caa7997d0c9"
      },
      "execution_count": 94,
      "outputs": [
        {
          "output_type": "stream",
          "name": "stdout",
          "text": [
            "[3. 5.]\n",
            "float64\n"
          ]
        }
      ]
    }
  ]
}